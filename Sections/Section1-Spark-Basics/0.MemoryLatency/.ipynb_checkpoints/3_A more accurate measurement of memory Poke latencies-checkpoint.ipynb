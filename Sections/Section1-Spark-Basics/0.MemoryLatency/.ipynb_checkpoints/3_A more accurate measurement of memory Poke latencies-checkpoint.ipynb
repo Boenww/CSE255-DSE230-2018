{
 "cells": [
  {
   "cell_type": "markdown",
   "metadata": {
    "slideshow": {
     "slide_type": "slide"
    }
   },
   "source": [
    "## measuring memory latency "
   ]
  },
  {
   "cell_type": "markdown",
   "metadata": {
    "slideshow": {
     "slide_type": "fragment"
    }
   },
   "source": [
    "The purpose of this exercise is to test how fast different compture's can run the computationally intensive tasks. "
   ]
  },
  {
   "cell_type": "markdown",
   "metadata": {
    "slideshow": {
     "slide_type": "skip"
    }
   },
   "source": [
    "The results in this notebook are specific to my notebook, which is a recent model powermac pro. More details can be seen in the section \"Collecting System Description\".\n",
    "\n",
    "We recommend that you run the notebook on your notebook to measure the latencies on your computer.\n",
    "\n",
    "Please Note: There are cells marked to be run by specific OS users. So, for those cells, run only the ones for the OS you are using. For example, if you are a windows OS user, then run only \"Collecting System Description: For Windows  users ONLY\" and not other cells."
   ]
  },
  {
   "cell_type": "markdown",
   "metadata": {
    "slideshow": {
     "slide_type": "skip"
    }
   },
   "source": [
    "### Import modules"
   ]
  },
  {
   "cell_type": "code",
   "execution_count": 1,
   "metadata": {
    "ExecuteTime": {
     "end_time": "2018-04-08T21:59:43.134925Z",
     "start_time": "2018-04-08T21:59:42.813248Z"
    },
    "slideshow": {
     "slide_type": "skip"
    }
   },
   "outputs": [
    {
     "name": "stdout",
     "output_type": "stream",
     "text": [
      "Populating the interactive namespace from numpy and matplotlib\n"
     ]
    }
   ],
   "source": [
    "# Enable automatic reload of libraries\n",
    "%load_ext autoreload\n",
    "%autoreload 2 # means that all modules are reloaded before every command\n",
    "\n",
    "%pylab inline\n",
    "from numpy import *"
   ]
  },
  {
   "cell_type": "code",
   "execution_count": 2,
   "metadata": {
    "ExecuteTime": {
     "end_time": "2018-04-08T21:59:43.146671Z",
     "start_time": "2018-04-08T21:59:43.136933Z"
    },
    "slideshow": {
     "slide_type": "skip"
    }
   },
   "outputs": [],
   "source": [
    "import time\n",
    "from matplotlib.backends.backend_pdf import PdfPages\n",
    "\n",
    "from os.path import isfile,isdir\n",
    "from os import mkdir\n",
    "import os"
   ]
  },
  {
   "cell_type": "code",
   "execution_count": 3,
   "metadata": {
    "ExecuteTime": {
     "end_time": "2018-04-08T21:59:43.398000Z",
     "start_time": "2018-04-08T21:59:43.148381Z"
    },
    "slideshow": {
     "slide_type": "skip"
    }
   },
   "outputs": [],
   "source": [
    "import sys\n",
    "sys.path.append('./lib')\n",
    "from measureRandomAccess import measureRandomAccess\n",
    "from PlotTime import PlotTime\n",
    "from create_file import create_file,tee"
   ]
  },
  {
   "cell_type": "markdown",
   "metadata": {
    "slideshow": {
     "slide_type": "subslide"
    }
   },
   "source": [
    "### defining memory latency\n",
    "Latency is the time difference between:"
   ]
  },
  {
   "cell_type": "markdown",
   "metadata": {
    "slideshow": {
     "slide_type": "fragment"
    }
   },
   "source": [
    "* The time at which the CPU is issuing a read or write command and,\n",
    "* The time the command is complete."
   ]
  },
  {
   "cell_type": "markdown",
   "metadata": {
    "slideshow": {
     "slide_type": "fragment"
    }
   },
   "source": [
    "* This time is  very short if the element is already in the L1 Cache, \n",
    "* and is very long if the element is in external memory (disk or SSD)."
   ]
  },
  {
   "cell_type": "markdown",
   "metadata": {
    "slideshow": {
     "slide_type": "slide"
    }
   },
   "source": [
    "### setting parameters\n",
    "* We test access to elements arrays whose sizes are:\n",
    "   * 1MB, 10MB, 100MB, 1000MB (=1GB)\n",
    "* Arrays are stored **in memory** or on disk **on disk**"
   ]
  },
  {
   "cell_type": "markdown",
   "metadata": {
    "slideshow": {
     "slide_type": "fragment"
    }
   },
   "source": [
    "* We perform 1 million read/write ops  to random locations in the array.\n",
    "* We analyze the **distribution** of the latencies."
   ]
  },
  {
   "cell_type": "code",
   "execution_count": 4,
   "metadata": {
    "ExecuteTime": {
     "end_time": "2018-04-08T21:59:43.403686Z",
     "start_time": "2018-04-08T21:59:43.399831Z"
    },
    "slideshow": {
     "slide_type": "skip"
    }
   },
   "outputs": [
    {
     "name": "stdout",
     "output_type": "stream",
     "text": [
      "n=100, k=100000, m_list= [1, 10, 100, 1000, 10000]\n"
     ]
    }
   ],
   "source": [
    "n=100 # size of single block (1MB)\n",
    "m_list=[1,10,100,1000,10000] # size of file in blocks\n",
    "k=100000;  # number of repeats\n",
    "L=len(m_list)\n",
    "print('n=%d, k=%d, m_list='%(n,k),m_list)"
   ]
  },
  {
   "cell_type": "markdown",
   "metadata": {
    "slideshow": {
     "slide_type": "skip"
    }
   },
   "source": [
    "### Set working directory\n",
    "This script generates large files. We put these files in a separate directory so it is easier to delete them later."
   ]
  },
  {
   "cell_type": "code",
   "execution_count": 5,
   "metadata": {
    "ExecuteTime": {
     "end_time": "2018-04-08T21:59:43.417298Z",
     "start_time": "2018-04-08T21:59:43.405513Z"
    },
    "slideshow": {
     "slide_type": "skip"
    }
   },
   "outputs": [
    {
     "name": "stdout",
     "output_type": "stream",
     "text": [
      "/Users/yoavfreund/academic.papers/Courses/BigDataAnalytics/BigData_spring2016/CSE255-DSE230-2018/Sections/Section1-Spark-Basics/0.MemoryLatency/logs/1523224783\n"
     ]
    }
   ],
   "source": [
    "log_root='./logs'\n",
    "if not isdir(log_root): mkdir(log_root)\n",
    "TimeStamp=str(int(time.time()))\n",
    "log_dir=log_root+'/'+TimeStamp\n",
    "mkdir(log_dir)\n",
    "%cd $log_dir\n",
    "stat=open('stats.txt','w')\n",
    "\n",
    "def tee(line):\n",
    "    print(line)\n",
    "    stat.write(line+'\\n')"
   ]
  },
  {
   "cell_type": "code",
   "execution_count": 8,
   "metadata": {
    "ExecuteTime": {
     "end_time": "2018-04-08T22:01:04.103417Z",
     "start_time": "2018-04-08T22:01:04.099826Z"
    },
    "slideshow": {
     "slide_type": "skip"
    }
   },
   "outputs": [],
   "source": [
    "_mean=zeros([2,L])   #0: using disk, 1: using memory\n",
    "_std=zeros([2,L])\n",
    "Tmem=[]\n",
    "TFile=[]"
   ]
  },
  {
   "cell_type": "code",
   "execution_count": 9,
   "metadata": {
    "ExecuteTime": {
     "end_time": "2018-04-08T22:01:20.618025Z",
     "start_time": "2018-04-08T22:01:20.595491Z"
    },
    "code_folding": []
   },
   "outputs": [],
   "source": [
    "# %load lib/measureRandomAccess.py\n",
    "import numpy as np\n",
    "from numpy.random import rand\n",
    "import time\n",
    "\n",
    "def measureRandomAccessMemBlocks(sz,k=1000,batch=100):\n",
    "    \"\"\"Measure the distribution of random accesses in computer memory.\n",
    "\n",
    "    :param sz: size of memory block.\n",
    "    :param k: number of times that the experiment is repeated.\n",
    "    :param batch: The number of locations poked in a single experiment (multiple pokes performed using numpy, rather than python loop)\n",
    "    :returns: (_mean,std,T):\n",
    "              _mean = the mean of T\n",
    "              _std = the std of T\n",
    "              T = a list the contains the times of all k experiments\n",
    "    :rtype: tuple\n",
    "\n",
    "    \"\"\"\n",
    "    # Prepare buffer.\n",
    "    A=np.zeros(sz,dtype=np.int8)\n",
    "            \n",
    "    # Read and write k*batch times from/to buffer.\n",
    "    sum=0; sum2=0\n",
    "    T=np.zeros(k)\n",
    "    for i in range(k):\n",
    "        if (i%100==0): print('\\r',i, end=' ')\n",
    "        loc=np.int32(rand(batch)*sz)\n",
    "        t=time.time()\n",
    "        x=A[loc]\n",
    "        A[loc]=loc\n",
    "        d=(time.time()-t)/batch\n",
    "        T[i]=d\n",
    "        sum += d\n",
    "        sum2 += d*d\n",
    "    _mean=sum/k; var=(sum2/k)-_mean**2; _std=np.sqrt(var)\n",
    "    return (_mean,_std,T)"
   ]
  },
  {
   "cell_type": "code",
   "execution_count": 10,
   "metadata": {
    "ExecuteTime": {
     "end_time": "2018-04-08T22:01:22.045940Z",
     "start_time": "2018-04-08T22:01:22.042753Z"
    }
   },
   "outputs": [],
   "source": [
    "m_list=[10,1000,10000,100000,1000000,10000000,1000000000]\n",
    "m_legend=['10B','1KB','10KB','100KB','1MB','10MB','1GB']"
   ]
  },
  {
   "cell_type": "code",
   "execution_count": 11,
   "metadata": {
    "ExecuteTime": {
     "end_time": "2018-04-08T22:01:25.204839Z",
     "start_time": "2018-04-08T22:01:24.274330Z"
    },
    "scrolled": true,
    "slideshow": {
     "slide_type": "skip"
    }
   },
   "outputs": [
    {
     "name": "stdout",
     "output_type": "stream",
     "text": [
      "Memory array 10 Bytes\n",
      "Memory pokes _mean=1.242232322692863e-08, Memory _std=2.2829041950669756e-08\n",
      "Memory array 1000 Bytes\n",
      "Memory pokes _mean=1.1504411697387624e-08, Memory _std=1.0749793752231017e-08\n",
      "Memory array 10000 Bytes\n",
      "Memory pokes _mean=1.066732406616203e-08, Memory _std=8.144789867941802e-09\n",
      "Memory array 100000 Bytes\n",
      "Memory pokes _mean=1.4693975448608299e-08, Memory _std=1.656076257701562e-08\n",
      "Memory array 1000000 Bytes\n",
      "Memory pokes _mean=1.450967788696283e-08, Memory _std=1.4209570971617446e-08\n",
      "Memory array 10000000 Bytes\n",
      "Memory pokes _mean=2.8276681900024003e-08, Memory _std=6.993828151483035e-08\n",
      "Memory array 1000000000 Bytes\n",
      "Memory pokes _mean=6.140730381011961e-07, Memory _std=5.682713807947285e-07\n"
     ]
    }
   ],
   "source": [
    "Random_pokes=[]\n",
    "\n",
    "L=len(m_list)\n",
    "_mean=zeros([L])   #0: using disk, 1: using memory\n",
    "_std=zeros([L])\n",
    "TMem=[0]*L\n",
    "\n",
    "for m_i in range(L):\n",
    "    m=m_list[m_i]\n",
    "    print('Memory array %d Bytes'%m)\n",
    "    out = measureRandomAccessMemBlocks(m,k=1000,batch=1000)\n",
    "    (_mean[m_i],_std[m_i],TMem[m_i]) = out\n",
    "    TMem[m_i].sort()\n",
    "    tee('\\rMemory pokes _mean='+str(_mean[m_i])+', Memory _std='+str(_std[m_i]))\n",
    "\n",
    "    Random_pokes.append({'m_i':m_i,\n",
    "                        'm':m,\n",
    "                        'memory__mean': _mean[m_i],\n",
    "                        'memory__std': _std[m_i],\n",
    "                        'memory_largest': TMem[m_i][-100:],\n",
    "                })"
   ]
  },
  {
   "cell_type": "markdown",
   "metadata": {
    "slideshow": {
     "slide_type": "subslide"
    }
   },
   "source": [
    "### Characterize random access to storage"
   ]
  },
  {
   "cell_type": "code",
   "execution_count": 12,
   "metadata": {
    "ExecuteTime": {
     "end_time": "2018-04-08T22:01:33.484501Z",
     "start_time": "2018-04-08T22:01:32.239689Z"
    },
    "hide_input": false
   },
   "outputs": [
    {
     "data": {
      "image/png": "[encoded data removed]",
      "text/plain": [
       "<matplotlib.figure.Figure at 0x11268a5f8>"
      ]
     },
     "metadata": {},
     "output_type": "display_data"
    }
   ],
   "source": [
    "pp = PdfPages('MemoryBlockFigure.pdf')\n",
    "figure(figsize=(6,4))\n",
    "\n",
    "Colors='bgrcmyk'  # The colors for the plot\n",
    "LineStyles=['-']\n",
    "\n",
    "fig = matplotlib.pyplot.gcf()\n",
    "fig.set_size_inches(18.5,10.5)\n",
    "\n",
    "for m_i in range(len(m_list)):\n",
    "    Color=Colors[m_i % len(Colors)]\n",
    "    PlotTime(TMem[m_i],_mean[m_i],_std[m_i],\\\n",
    "             Color=Color,LS='-',Legend=m_legend[m_i],\\\n",
    "             m_i=m_i)\n",
    "\n",
    "grid()\n",
    "legend(fontsize=18)\n",
    "xlabel('delay (sec)',fontsize=18)\n",
    "ylabel('1-CDF',fontsize=18)\n",
    "tick_params(axis='both', which='major', labelsize=16)\n",
    "tick_params(axis='both', which='minor', labelsize=12)\n",
    "pp.savefig()\n",
    "pp.close()"
   ]
  },
  {
   "cell_type": "markdown",
   "metadata": {
    "hide_input": true,
    "slideshow": {
     "slide_type": "subslide"
    }
   },
   "source": [
    "### Characterize sequential access"
   ]
  },
  {
   "cell_type": "code",
   "execution_count": 13,
   "metadata": {
    "ExecuteTime": {
     "end_time": "2018-04-08T22:01:50.658698Z",
     "start_time": "2018-04-08T22:01:42.554019Z"
    },
    "hide_input": false,
    "scrolled": false,
    "slideshow": {
     "slide_type": "skip"
    }
   },
   "outputs": [
    {
     "name": "stdout",
     "output_type": "stream",
     "text": [
      "### Consecutive Memory writes:\n",
      "\n",
      "|   size (MB) | Average Latency |\n",
      "| ---------: | --------------: | \n",
      "|  0.001 | 2.8e-08 |\n",
      "|  0.100 | 3e-09 |\n",
      "| 10.000 | 6.9e-09 |\n",
      "| 1000.000 | 7.6e-09 |\n"
     ]
    }
   ],
   "source": [
    "import time\n",
    "Consec=[]\n",
    "Line='### Consecutive Memory writes:'\n",
    "print(Line); stat.write(Line+'\\n')\n",
    "n=1000\n",
    "r=np.array(list(range(n)))\n",
    "Header=\"\"\"\n",
    "|   size (MB) | Average Latency |\n",
    "| ---------: | --------------: | \"\"\"\n",
    "tee(Header)\n",
    "for m in [1,100,10000,1000000]:\n",
    "    t1=time.time()\n",
    "    A=np.repeat(r,m)\n",
    "    t2=time.time()\n",
    "    Consec.append((n,m,float(n*m)/1000000,(t2-t1)/float(n*m)))\n",
    "    tee(\"| %6.3f | %4.2g |\" % (float(n*m)/1000000,(t2-t1)/float(n*m)))\n",
    "A=[];r=[]\n",
    "stat.close()"
   ]
  },
  {
   "cell_type": "markdown",
   "metadata": {
    "slideshow": {
     "slide_type": "subslide"
    }
   },
   "source": [
    "### Consecutive Memory writes:\n",
    "\n",
    "<img alt=\"\" src=\"Figures/Sequential_access_latency.png\" style=\"width:300px\" />"
   ]
  },
  {
   "cell_type": "markdown",
   "metadata": {
    "slideshow": {
     "slide_type": "fragment"
    }
   },
   "source": [
    "* Latency changes little with array size."
   ]
  },
  {
   "cell_type": "markdown",
   "metadata": {
    "slideshow": {
     "slide_type": "fragment"
    }
   },
   "source": [
    "* Latency is about $10^{-9} - 10^{-8}$ while latency for random access is about $10^{-6}$"
   ]
  },
  {
   "cell_type": "markdown",
   "metadata": {
    "slideshow": {
     "slide_type": "slide"
    }
   },
   "source": [
    "## Collecting System Description\n",
    "In this section you will find commands that list properties of the hardware you are using."
   ]
  },
  {
   "cell_type": "markdown",
   "metadata": {
    "slideshow": {
     "slide_type": "skip"
    }
   },
   "source": [
    "### Are you using a Virtual Machine?\n",
    "If you are, Uncomment the following code so that `isVM` is set to `[\"True\"]`"
   ]
  },
  {
   "cell_type": "code",
   "execution_count": 22,
   "metadata": {
    "ExecuteTime": {
     "end_time": "2018-04-08T22:10:55.486387Z",
     "start_time": "2018-04-08T22:10:55.483418Z"
    },
    "slideshow": {
     "slide_type": "skip"
    }
   },
   "outputs": [],
   "source": [
    "# uncomment the brand of OS you are using, and comment the others\n",
    "\n",
    "brand_name = \"brand: Macbook\"\n",
    "#brand_name = \"brand: Linux\"\n",
    "#brand_name = \"brand: Windows\""
   ]
  },
  {
   "cell_type": "markdown",
   "metadata": {
    "slideshow": {
     "slide_type": "skip"
    }
   },
   "source": [
    "### For Mac users\n",
    "\n",
    "The next cell needs to be run only by Mac OS users. If run on other OS platforms, it will throw error. "
   ]
  },
  {
   "cell_type": "code",
   "execution_count": 23,
   "metadata": {
    "ExecuteTime": {
     "end_time": "2018-04-08T22:10:57.209143Z",
     "start_time": "2018-04-08T22:10:57.155183Z"
    },
    "slideshow": {
     "slide_type": "skip"
    }
   },
   "outputs": [],
   "source": [
    "if brand_name==\"brand: Macbook\":\n",
    "    os_info = !sysctl kernel.osrelease kernel.osrevision kernel.ostype kernel.osversion\n",
    "    cpu_info = !sysctl machdep.cpu.brand_string machdep.cpu.cache.L2_associativity machdep.cpu.cache.linesize machdep.cpu.cache.size machdep.cpu.core_count\n",
    "    cache_info = !sysctl kern.procname hw.memsize hw.cpufamily hw.activecpu hw.cachelinesize hw.cpufrequency hw.l1dcachesize hw.l1icachesize hw.l2cachesize hw.l3cachesize hw.cputype "
   ]
  },
  {
   "cell_type": "markdown",
   "metadata": {
    "slideshow": {
     "slide_type": "skip"
    }
   },
   "source": [
    "### For Linux OS users\n"
   ]
  },
  {
   "cell_type": "code",
   "execution_count": 24,
   "metadata": {
    "ExecuteTime": {
     "end_time": "2018-04-08T22:10:58.788357Z",
     "start_time": "2018-04-08T22:10:58.771636Z"
    },
    "slideshow": {
     "slide_type": "skip"
    }
   },
   "outputs": [],
   "source": [
    "if brand_name == \"brand: Linux\":\n",
    "\n",
    "    os_info = !sysctl kernel.ostype kernel.osrelease \n",
    "    os_version = !lsb_release -r\n",
    "    memory_size = !cat /proc/meminfo | grep 'MemTotal'\n",
    "    os_info += os_version + memory_size\n",
    "\n",
    "    cache_L1i = !lscpu | grep 'L1i'\n",
    "    cache_L1d = !lscpu | grep 'L1d'\n",
    "    cache_L2 = !lscpu | grep 'L2'\n",
    "    cache_L3 = !lscpu | grep 'L3'\n",
    "    cache_info = cache_L1i + cache_L1d + cache_L2 + cache_L3\n",
    "\n",
    "    cpu_type = !lscpu | grep 'CPU family'\n",
    "    cpu_brand = !cat /proc/cpuinfo | grep -m 1 'model name'\n",
    "    cpu_frequency = !lscpu | grep 'CPU MHz'\n",
    "    cpu_core_count = !lscpu | grep 'CPU(s)'\n",
    "    cpu_info = cpu_type + cpu_brand + cpu_frequency + cpu_core_count"
   ]
  },
  {
   "cell_type": "markdown",
   "metadata": {
    "slideshow": {
     "slide_type": "skip"
    }
   },
   "source": [
    "###  For Windows users\n",
    "The next cell needs to be run only by Windows OS users. If run on other OS platforms, it will throw error."
   ]
  },
  {
   "cell_type": "code",
   "execution_count": 25,
   "metadata": {
    "ExecuteTime": {
     "end_time": "2018-04-08T22:11:00.478199Z",
     "start_time": "2018-04-08T22:11:00.467524Z"
    },
    "slideshow": {
     "slide_type": "skip"
    }
   },
   "outputs": [],
   "source": [
    "if brand_name == \"brand: Windows\":\n",
    "\n",
    "    os_release  = !ver\n",
    "    os_type     = !WMIC CPU get  SystemCreationClassName\n",
    "    memory      = !WMIC ComputerSystem get TotalPhysicalMemory\n",
    "    os_info     = os_release + os_type\n",
    "\n",
    "    cpu_core_count  = !WMIC CPU get NumberOfCores\n",
    "    cpu_speed       = !WMIC CPU get CurrentClockSpeed\n",
    "    cpu_model_name  = !WMIC CPU get name\n",
    "    cpu_info        = cpu_core_count + cpu_speed + cpu_model_name\n",
    "\n",
    "    l2cachesize = !WMIC CPU get L2CacheSize\n",
    "    l3cachesize = !WMIC CPU get L3CacheSize\n",
    "    cache_info  = l2cachesize + l3cachesize\n"
   ]
  },
  {
   "cell_type": "code",
   "execution_count": 26,
   "metadata": {
    "ExecuteTime": {
     "end_time": "2018-04-08T22:11:01.623205Z",
     "start_time": "2018-04-08T22:11:01.618645Z"
    },
    "scrolled": true,
    "slideshow": {
     "slide_type": "subslide"
    }
   },
   "outputs": [
    {
     "data": {
      "text/plain": [
       "['brand: Macbook',\n",
       " \"sysctl: unknown oid 'kernel.osrelease'\",\n",
       " 'kern.procname: sysctl',\n",
       " 'hw.memsize: 17179869184',\n",
       " 'hw.cpufamily: 280134364',\n",
       " 'hw.activecpu: 8',\n",
       " 'hw.cachelinesize: 64',\n",
       " 'hw.cpufrequency: 2500000000',\n",
       " 'hw.l1dcachesize: 32768',\n",
       " 'hw.l1icachesize: 32768',\n",
       " 'hw.l2cachesize: 262144',\n",
       " 'hw.l3cachesize: 6291456',\n",
       " 'hw.cputype: 7',\n",
       " 'machdep.cpu.brand_string: Intel(R) Core(TM) i7-4870HQ CPU @ 2.50GHz',\n",
       " 'machdep.cpu.cache.L2_associativity: 8',\n",
       " 'machdep.cpu.cache.linesize: 64',\n",
       " 'machdep.cpu.cache.size: 256',\n",
       " 'machdep.cpu.core_count: 4']"
      ]
     },
     "execution_count": 26,
     "metadata": {},
     "output_type": "execute_result"
    }
   ],
   "source": [
    "description= [brand_name] + os_info + cache_info + cpu_info\n",
    "description"
   ]
  },
  {
   "cell_type": "markdown",
   "metadata": {
    "slideshow": {
     "slide_type": "subslide"
    }
   },
   "source": [
    "### memory and cache sizes for Macbook Pro\n",
    "\n",
    "<img alt=\"\" src=\"Figures/MacBookProMemorySizes.png\" style=\"width:500px\" />"
   ]
  },
  {
   "cell_type": "code",
   "execution_count": 27,
   "metadata": {
    "ExecuteTime": {
     "end_time": "2018-04-08T22:11:19.042890Z",
     "start_time": "2018-04-08T22:11:19.034085Z"
    },
    "slideshow": {
     "slide_type": "skip"
    }
   },
   "outputs": [],
   "source": [
    "# Writing all necesarry information int oa pickle file.\n",
    "import pickle\n",
    "with open('memory_report.pkl','wb') as pickle_file:\n",
    "    pickle.dump({'description':description,\n",
    "                'Consec':Consec,\n",
    "                'Random_pokes':Random_pokes},\n",
    "               pickle_file)"
   ]
  },
  {
   "cell_type": "markdown",
   "metadata": {
    "slideshow": {
     "slide_type": "slide"
    }
   },
   "source": [
    "## Observations"
   ]
  },
  {
   "cell_type": "markdown",
   "metadata": {
    "slideshow": {
     "slide_type": "fragment"
    }
   },
   "source": [
    "* If you write to consecutive locations, you have a per-byte time of around $10^{-8}$ if you jump around you can't do better than $10^{-6}$."
   ]
  },
  {
   "cell_type": "markdown",
   "metadata": {
    "slideshow": {
     "slide_type": "fragment"
    }
   },
   "source": [
    "* As you increase the size of the array/file random access speed decreases dramatically, while sequential access speed stays more or less constant."
   ]
  },
  {
   "cell_type": "markdown",
   "metadata": {
    "slideshow": {
     "slide_type": "fragment"
    }
   },
   "source": [
    "* The high latency tails are much bigger than what you'd expect from a normal distribution with the same mean and std."
   ]
  },
  {
   "cell_type": "markdown",
   "metadata": {
    "slideshow": {
     "slide_type": "subslide"
    }
   },
   "source": [
    "### Impact on Big Data Analytics"
   ]
  },
  {
   "cell_type": "markdown",
   "metadata": {
    "slideshow": {
     "slide_type": "fragment"
    }
   },
   "source": [
    "* Clock rate is stuck at around 3GHz, and is likely to be stuck there for the forseeable future."
   ]
  },
  {
   "cell_type": "markdown",
   "metadata": {
    "slideshow": {
     "slide_type": "fragment"
    }
   },
   "source": [
    "* **Faster** computers / disks / networks are **expensive** "
   ]
  },
  {
   "cell_type": "markdown",
   "metadata": {
    "slideshow": {
     "slide_type": "fragment"
    }
   },
   "source": [
    "* The cost-effective solution is often a cluster of many cheap computers, each with many cores and break up the data so that each computer has a small fraction of the data."
   ]
  },
  {
   "cell_type": "markdown",
   "metadata": {
    "slideshow": {
     "slide_type": "fragment"
    }
   },
   "source": [
    "* Data-Centers and the \"Cloud\""
   ]
  },
  {
   "cell_type": "markdown",
   "metadata": {
    "slideshow": {
     "slide_type": "skip"
    }
   },
   "source": [
    "## Clean-Up\n",
    "Make sure to delete the logs directory! The commands that you ran above made the log directory very big, you WILL NOT be submitting the log directory."
   ]
  },
  {
   "cell_type": "code",
   "execution_count": 20,
   "metadata": {
    "ExecuteTime": {
     "end_time": "2018-04-08T22:02:12.891327Z",
     "start_time": "2018-04-08T22:02:12.752275Z"
    },
    "slideshow": {
     "slide_type": "skip"
    }
   },
   "outputs": [],
   "source": [
    "!rm -rf logs"
   ]
  },
  {
   "cell_type": "code",
   "execution_count": null,
   "metadata": {},
   "outputs": [],
   "source": []
  }
 ],
 "metadata": {
  "anaconda-cloud": {},
  "celltoolbar": "Slideshow",
  "hide_input": false,
  "kernelspec": {
   "display_name": "Python 3",
   "language": "python",
   "name": "python3"
  },
  "language_info": {
   "codemirror_mode": {
    "name": "ipython",
    "version": 3
   },
   "file_extension": ".py",
   "mimetype": "text/x-python",
   "name": "python",
   "nbconvert_exporter": "python",
   "pygments_lexer": "ipython3",
   "version": "3.6.4"
  },
  "toc": {
   "base_numbering": 1,
   "nav_menu": {
    "height": "82px",
    "width": "252px"
   },
   "number_sections": true,
   "sideBar": true,
   "skip_h1_title": false,
   "title_cell": "Table of Contents",
   "title_sidebar": "Contents",
   "toc_cell": false,
   "toc_position": {
    "height": "597px",
    "left": "0px",
    "right": "1204px",
    "top": "106px",
    "width": "251px"
   },
   "toc_section_display": "block",
   "toc_window_display": false
  }
 },
 "nbformat": 4,
 "nbformat_minor": 2
}

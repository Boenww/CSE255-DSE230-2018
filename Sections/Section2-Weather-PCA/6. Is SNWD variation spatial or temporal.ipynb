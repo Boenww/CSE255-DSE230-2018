{
 "cells": [
  {
   "cell_type": "markdown",
   "metadata": {
    "slideshow": {
     "slide_type": "slide"
    }
   },
   "source": [
    "## Analyze whether early or late snow changes more year to year or place to place.\n",
    "\n",
    "* We know from previous notebooks that the value of `coef_2` corresponds to whether the snow season is early or late. \n",
    "* We want to study whether early/late season is more dependent on the year or on the location.\n",
    "* We will use RMS Error to quantify the strength of these dependencies."
   ]
  },
  {
   "cell_type": "code",
   "execution_count": 1,
   "metadata": {
    "ExecuteTime": {
     "end_time": "2018-04-26T15:38:54.494789Z",
     "start_time": "2018-04-26T15:38:54.082547Z"
    },
    "slideshow": {
     "slide_type": "skip"
    }
   },
   "outputs": [],
   "source": [
    "import pandas as pd\n",
    "import numpy as np\n",
    "import urllib\n",
    "import math"
   ]
  },
  {
   "cell_type": "code",
   "execution_count": 2,
   "metadata": {
    "ExecuteTime": {
     "end_time": "2018-04-26T15:38:59.301231Z",
     "start_time": "2018-04-26T15:38:56.680609Z"
    },
    "slideshow": {
     "slide_type": "skip"
    }
   },
   "outputs": [],
   "source": [
    "import findspark\n",
    "findspark.init()\n",
    "\n",
    "from pyspark import SparkContext\n",
    "#sc.stop()\n",
    "sc = SparkContext(master=\"local[3]\",pyFiles=['lib/numpy_pack.py','lib/spark_PCA.py','lib/computeStatistics.py'])\n",
    "\n",
    "from pyspark import SparkContext\n",
    "from pyspark.sql import *\n",
    "sqlContext = SQLContext(sc)"
   ]
  },
  {
   "cell_type": "code",
   "execution_count": 3,
   "metadata": {
    "ExecuteTime": {
     "end_time": "2018-04-26T15:39:00.212243Z",
     "start_time": "2018-04-26T15:39:00.028202Z"
    },
    "slideshow": {
     "slide_type": "skip"
    }
   },
   "outputs": [
    {
     "name": "stdout",
     "output_type": "stream",
     "text": [
      "Populating the interactive namespace from numpy and matplotlib\n"
     ]
    }
   ],
   "source": [
    "%pylab inline\n",
    "import numpy as np\n",
    "from lib.numpy_pack import packArray,unpackArray\n",
    "from lib.spark_PCA import computeCov\n",
    "from lib.computeStatistics import *"
   ]
  },
  {
   "cell_type": "code",
   "execution_count": 28,
   "metadata": {
    "ExecuteTime": {
     "end_time": "2018-04-26T15:39:01.303639Z",
     "start_time": "2018-04-26T15:39:01.217000Z"
    },
    "slideshow": {
     "slide_type": "skip"
    }
   },
   "outputs": [
    {
     "name": "stdout",
     "output_type": "stream",
     "text": [
      "keys from STAT= dict_keys(['SNOW_s20', 'TMIN_s20', 'TOBS', 'SNWD_s20', 'PRCP_s20', 'TOBS_s20', 'PRCP', 'TMAX', 'TMAX_s20', 'TMIN', 'SNOW', 'SNWD'])\n"
     ]
    }
   ],
   "source": [
    "### Read the data frame from pickle file\n",
    "\n",
    "data_dir='../Data/Weather'\n",
    "state='WA'\n",
    "meas='TOBS_s20'\n",
    "\n",
    "from pickle import load\n",
    "\n",
    "#read statistics\n",
    "filename=data_dir+'/STAT_%s.pickle'%state\n",
    "STAT,STAT_Descriptions = load(open(filename,'rb'))\n",
    "print('keys from STAT=',STAT.keys())"
   ]
  },
  {
   "cell_type": "code",
   "execution_count": 29,
   "metadata": {
    "ExecuteTime": {
     "end_time": "2018-04-26T15:39:06.616421Z",
     "start_time": "2018-04-26T15:39:03.497687Z"
    },
    "slideshow": {
     "slide_type": "skip"
    }
   },
   "outputs": [
    {
     "name": "stdout",
     "output_type": "stream",
     "text": [
      "12636\n"
     ]
    }
   ],
   "source": [
    "#!ls -ld $data_dir/*.parquet\n",
    "\n",
    "#read data\n",
    "filename=data_dir+'/decon_%s_%s.parquet'%(state,meas)\n",
    "\n",
    "df=sqlContext.read.parquet(filename)\n",
    "print(df.count())\n"
   ]
  },
  {
   "cell_type": "code",
   "execution_count": 30,
   "metadata": {
    "ExecuteTime": {
     "end_time": "2018-04-26T15:39:07.451903Z",
     "start_time": "2018-04-26T15:39:06.618892Z"
    },
    "slideshow": {
     "slide_type": "subslide"
    }
   },
   "outputs": [
    {
     "data": {
      "text/html": [
       "<div>\n",
       "<style scoped>\n",
       "    .dataframe tbody tr th:only-of-type {\n",
       "        vertical-align: middle;\n",
       "    }\n",
       "\n",
       "    .dataframe tbody tr th {\n",
       "        vertical-align: top;\n",
       "    }\n",
       "\n",
       "    .dataframe thead th {\n",
       "        text-align: right;\n",
       "    }\n",
       "</style>\n",
       "<table border=\"1\" class=\"dataframe\">\n",
       "  <thead>\n",
       "    <tr style=\"text-align: right;\">\n",
       "      <th></th>\n",
       "      <th>Measurement</th>\n",
       "      <th>Station</th>\n",
       "      <th>Values</th>\n",
       "      <th>Year</th>\n",
       "      <th>coeff_1</th>\n",
       "      <th>coeff_2</th>\n",
       "      <th>coeff_3</th>\n",
       "      <th>coeff_4</th>\n",
       "      <th>coeff_5</th>\n",
       "      <th>dist_coast</th>\n",
       "      <th>...</th>\n",
       "      <th>latitude</th>\n",
       "      <th>longitude</th>\n",
       "      <th>name</th>\n",
       "      <th>res_1</th>\n",
       "      <th>res_2</th>\n",
       "      <th>res_3</th>\n",
       "      <th>res_4</th>\n",
       "      <th>res_5</th>\n",
       "      <th>res_mean</th>\n",
       "      <th>total_var</th>\n",
       "    </tr>\n",
       "  </thead>\n",
       "  <tbody>\n",
       "    <tr>\n",
       "      <th>0</th>\n",
       "      <td>TOBS_s20</td>\n",
       "      <td>USC00454486</td>\n",
       "      <td>[136, 77, 87, 77, 39, 77, 247, 76, 199, 76, 15...</td>\n",
       "      <td>1980</td>\n",
       "      <td>557.496711</td>\n",
       "      <td>-358.053608</td>\n",
       "      <td>42.862688</td>\n",
       "      <td>106.164237</td>\n",
       "      <td>27.565953</td>\n",
       "      <td>24.2022</td>\n",
       "      <td>...</td>\n",
       "      <td>47.376701</td>\n",
       "      <td>-121.961403</td>\n",
       "      <td>LANDSBURG</td>\n",
       "      <td>0.321313</td>\n",
       "      <td>0.041363</td>\n",
       "      <td>0.037351</td>\n",
       "      <td>0.012739</td>\n",
       "      <td>0.01108</td>\n",
       "      <td>0.172691</td>\n",
       "      <td>2.651833e+06</td>\n",
       "    </tr>\n",
       "  </tbody>\n",
       "</table>\n",
       "<p>1 rows × 21 columns</p>\n",
       "</div>"
      ],
      "text/plain": [
       "  Measurement      Station                                             Values  \\\n",
       "0    TOBS_s20  USC00454486  [136, 77, 87, 77, 39, 77, 247, 76, 199, 76, 15...   \n",
       "\n",
       "   Year     coeff_1     coeff_2    coeff_3     coeff_4    coeff_5  dist_coast  \\\n",
       "0  1980  557.496711 -358.053608  42.862688  106.164237  27.565953     24.2022   \n",
       "\n",
       "       ...        latitude   longitude       name     res_1     res_2  \\\n",
       "0      ...       47.376701 -121.961403  LANDSBURG  0.321313  0.041363   \n",
       "\n",
       "      res_3     res_4    res_5  res_mean     total_var  \n",
       "0  0.037351  0.012739  0.01108  0.172691  2.651833e+06  \n",
       "\n",
       "[1 rows x 21 columns]"
      ]
     },
     "execution_count": 30,
     "metadata": {},
     "output_type": "execute_result"
    }
   ],
   "source": [
    "tmp=df.filter(df.Year=='1980').toPandas()\n",
    "tmp.head(1)"
   ]
  },
  {
   "cell_type": "code",
   "execution_count": 68,
   "metadata": {
    "ExecuteTime": {
     "end_time": "2018-04-26T15:39:07.887180Z",
     "start_time": "2018-04-26T15:39:07.457319Z"
    },
    "scrolled": true,
    "slideshow": {
     "slide_type": "subslide"
    }
   },
   "outputs": [
    {
     "name": "stdout",
     "output_type": "stream",
     "text": [
      "SELECT station, year, coeff_2 FROM weather\n"
     ]
    },
    {
     "data": {
      "text/html": [
       "<div>\n",
       "<style scoped>\n",
       "    .dataframe tbody tr th:only-of-type {\n",
       "        vertical-align: middle;\n",
       "    }\n",
       "\n",
       "    .dataframe tbody tr th {\n",
       "        vertical-align: top;\n",
       "    }\n",
       "\n",
       "    .dataframe thead th {\n",
       "        text-align: right;\n",
       "    }\n",
       "</style>\n",
       "<table border=\"1\" class=\"dataframe\">\n",
       "  <thead>\n",
       "    <tr style=\"text-align: right;\">\n",
       "      <th></th>\n",
       "      <th>station</th>\n",
       "      <th>year</th>\n",
       "      <th>coeff_2</th>\n",
       "    </tr>\n",
       "  </thead>\n",
       "  <tbody>\n",
       "    <tr>\n",
       "      <th>0</th>\n",
       "      <td>USC00454486</td>\n",
       "      <td>1924</td>\n",
       "      <td>-36.340063</td>\n",
       "    </tr>\n",
       "    <tr>\n",
       "      <th>1</th>\n",
       "      <td>USC00454486</td>\n",
       "      <td>1925</td>\n",
       "      <td>-506.527762</td>\n",
       "    </tr>\n",
       "    <tr>\n",
       "      <th>2</th>\n",
       "      <td>USC00454486</td>\n",
       "      <td>1926</td>\n",
       "      <td>-394.974859</td>\n",
       "    </tr>\n",
       "    <tr>\n",
       "      <th>3</th>\n",
       "      <td>USC00454486</td>\n",
       "      <td>1927</td>\n",
       "      <td>-232.014465</td>\n",
       "    </tr>\n",
       "    <tr>\n",
       "      <th>4</th>\n",
       "      <td>USC00454486</td>\n",
       "      <td>1928</td>\n",
       "      <td>-393.061378</td>\n",
       "    </tr>\n",
       "  </tbody>\n",
       "</table>\n",
       "</div>"
      ],
      "text/plain": [
       "       station  year     coeff_2\n",
       "0  USC00454486  1924  -36.340063\n",
       "1  USC00454486  1925 -506.527762\n",
       "2  USC00454486  1926 -394.974859\n",
       "3  USC00454486  1927 -232.014465\n",
       "4  USC00454486  1928 -393.061378"
      ]
     },
     "execution_count": 68,
     "metadata": {},
     "output_type": "execute_result"
    }
   ],
   "source": [
    "#extract longitude and latitude for each station\n",
    "feature='coeff_1'\n",
    "sqlContext.registerDataFrameAsTable(df,'weather')\n",
    "Features='station, year, coeff_2'\n",
    "Query=\"SELECT %s FROM weather\"%Features\n",
    "print(Query)\n",
    "pdf = sqlContext.sql(Query).toPandas()\n",
    "pdf.head()"
   ]
  },
  {
   "cell_type": "code",
   "execution_count": 69,
   "metadata": {
    "ExecuteTime": {
     "end_time": "2018-04-26T15:39:08.902260Z",
     "start_time": "2018-04-26T15:39:08.870053Z"
    },
    "slideshow": {
     "slide_type": "subslide"
    }
   },
   "outputs": [
    {
     "data": {
      "text/html": [
       "<div>\n",
       "<style scoped>\n",
       "    .dataframe tbody tr th:only-of-type {\n",
       "        vertical-align: middle;\n",
       "    }\n",
       "\n",
       "    .dataframe tbody tr th {\n",
       "        vertical-align: top;\n",
       "    }\n",
       "\n",
       "    .dataframe thead th {\n",
       "        text-align: right;\n",
       "    }\n",
       "</style>\n",
       "<table border=\"1\" class=\"dataframe\">\n",
       "  <thead>\n",
       "    <tr style=\"text-align: right;\">\n",
       "      <th>station</th>\n",
       "      <th>USC00450008</th>\n",
       "      <th>USC00450013</th>\n",
       "      <th>USC00450094</th>\n",
       "      <th>USC00450158</th>\n",
       "      <th>USC00450176</th>\n",
       "      <th>USC00450184</th>\n",
       "      <th>USC00450217</th>\n",
       "      <th>USC00450257</th>\n",
       "      <th>USC00450456</th>\n",
       "      <th>USC00450482</th>\n",
       "      <th>...</th>\n",
       "      <th>USW00024219</th>\n",
       "      <th>USW00024237</th>\n",
       "      <th>USW00024239</th>\n",
       "      <th>USW00024240</th>\n",
       "      <th>USW00024243</th>\n",
       "      <th>USW00024244</th>\n",
       "      <th>USW00094103</th>\n",
       "      <th>USW00094197</th>\n",
       "      <th>USW00094227</th>\n",
       "      <th>USW00094290</th>\n",
       "    </tr>\n",
       "    <tr>\n",
       "      <th>year</th>\n",
       "      <th></th>\n",
       "      <th></th>\n",
       "      <th></th>\n",
       "      <th></th>\n",
       "      <th></th>\n",
       "      <th></th>\n",
       "      <th></th>\n",
       "      <th></th>\n",
       "      <th></th>\n",
       "      <th></th>\n",
       "      <th></th>\n",
       "      <th></th>\n",
       "      <th></th>\n",
       "      <th></th>\n",
       "      <th></th>\n",
       "      <th></th>\n",
       "      <th></th>\n",
       "      <th></th>\n",
       "      <th></th>\n",
       "      <th></th>\n",
       "      <th></th>\n",
       "    </tr>\n",
       "  </thead>\n",
       "  <tbody>\n",
       "    <tr>\n",
       "      <th>1890</th>\n",
       "      <td>NaN</td>\n",
       "      <td>NaN</td>\n",
       "      <td>NaN</td>\n",
       "      <td>NaN</td>\n",
       "      <td>NaN</td>\n",
       "      <td>NaN</td>\n",
       "      <td>NaN</td>\n",
       "      <td>NaN</td>\n",
       "      <td>NaN</td>\n",
       "      <td>NaN</td>\n",
       "      <td>...</td>\n",
       "      <td>NaN</td>\n",
       "      <td>NaN</td>\n",
       "      <td>NaN</td>\n",
       "      <td>NaN</td>\n",
       "      <td>NaN</td>\n",
       "      <td>NaN</td>\n",
       "      <td>NaN</td>\n",
       "      <td>NaN</td>\n",
       "      <td>NaN</td>\n",
       "      <td>NaN</td>\n",
       "    </tr>\n",
       "    <tr>\n",
       "      <th>1893</th>\n",
       "      <td>NaN</td>\n",
       "      <td>NaN</td>\n",
       "      <td>NaN</td>\n",
       "      <td>NaN</td>\n",
       "      <td>NaN</td>\n",
       "      <td>NaN</td>\n",
       "      <td>NaN</td>\n",
       "      <td>NaN</td>\n",
       "      <td>NaN</td>\n",
       "      <td>NaN</td>\n",
       "      <td>...</td>\n",
       "      <td>NaN</td>\n",
       "      <td>NaN</td>\n",
       "      <td>NaN</td>\n",
       "      <td>NaN</td>\n",
       "      <td>NaN</td>\n",
       "      <td>NaN</td>\n",
       "      <td>NaN</td>\n",
       "      <td>NaN</td>\n",
       "      <td>NaN</td>\n",
       "      <td>NaN</td>\n",
       "    </tr>\n",
       "    <tr>\n",
       "      <th>1900</th>\n",
       "      <td>NaN</td>\n",
       "      <td>NaN</td>\n",
       "      <td>NaN</td>\n",
       "      <td>NaN</td>\n",
       "      <td>NaN</td>\n",
       "      <td>NaN</td>\n",
       "      <td>NaN</td>\n",
       "      <td>NaN</td>\n",
       "      <td>NaN</td>\n",
       "      <td>NaN</td>\n",
       "      <td>...</td>\n",
       "      <td>NaN</td>\n",
       "      <td>NaN</td>\n",
       "      <td>NaN</td>\n",
       "      <td>NaN</td>\n",
       "      <td>NaN</td>\n",
       "      <td>NaN</td>\n",
       "      <td>NaN</td>\n",
       "      <td>NaN</td>\n",
       "      <td>NaN</td>\n",
       "      <td>NaN</td>\n",
       "    </tr>\n",
       "    <tr>\n",
       "      <th>1901</th>\n",
       "      <td>-408.400663</td>\n",
       "      <td>NaN</td>\n",
       "      <td>NaN</td>\n",
       "      <td>NaN</td>\n",
       "      <td>NaN</td>\n",
       "      <td>NaN</td>\n",
       "      <td>NaN</td>\n",
       "      <td>NaN</td>\n",
       "      <td>NaN</td>\n",
       "      <td>NaN</td>\n",
       "      <td>...</td>\n",
       "      <td>NaN</td>\n",
       "      <td>NaN</td>\n",
       "      <td>NaN</td>\n",
       "      <td>NaN</td>\n",
       "      <td>NaN</td>\n",
       "      <td>NaN</td>\n",
       "      <td>NaN</td>\n",
       "      <td>NaN</td>\n",
       "      <td>NaN</td>\n",
       "      <td>NaN</td>\n",
       "    </tr>\n",
       "    <tr>\n",
       "      <th>1902</th>\n",
       "      <td>NaN</td>\n",
       "      <td>NaN</td>\n",
       "      <td>NaN</td>\n",
       "      <td>NaN</td>\n",
       "      <td>NaN</td>\n",
       "      <td>NaN</td>\n",
       "      <td>NaN</td>\n",
       "      <td>NaN</td>\n",
       "      <td>NaN</td>\n",
       "      <td>NaN</td>\n",
       "      <td>...</td>\n",
       "      <td>NaN</td>\n",
       "      <td>NaN</td>\n",
       "      <td>NaN</td>\n",
       "      <td>NaN</td>\n",
       "      <td>NaN</td>\n",
       "      <td>NaN</td>\n",
       "      <td>NaN</td>\n",
       "      <td>NaN</td>\n",
       "      <td>NaN</td>\n",
       "      <td>NaN</td>\n",
       "    </tr>\n",
       "  </tbody>\n",
       "</table>\n",
       "<p>5 rows × 264 columns</p>\n",
       "</div>"
      ],
      "text/plain": [
       "station  USC00450008  USC00450013  USC00450094  USC00450158  USC00450176  \\\n",
       "year                                                                       \n",
       "1890             NaN          NaN          NaN          NaN          NaN   \n",
       "1893             NaN          NaN          NaN          NaN          NaN   \n",
       "1900             NaN          NaN          NaN          NaN          NaN   \n",
       "1901     -408.400663          NaN          NaN          NaN          NaN   \n",
       "1902             NaN          NaN          NaN          NaN          NaN   \n",
       "\n",
       "station  USC00450184  USC00450217  USC00450257  USC00450456  USC00450482  \\\n",
       "year                                                                       \n",
       "1890             NaN          NaN          NaN          NaN          NaN   \n",
       "1893             NaN          NaN          NaN          NaN          NaN   \n",
       "1900             NaN          NaN          NaN          NaN          NaN   \n",
       "1901             NaN          NaN          NaN          NaN          NaN   \n",
       "1902             NaN          NaN          NaN          NaN          NaN   \n",
       "\n",
       "station     ...       USW00024219  USW00024237  USW00024239  USW00024240  \\\n",
       "year        ...                                                            \n",
       "1890        ...               NaN          NaN          NaN          NaN   \n",
       "1893        ...               NaN          NaN          NaN          NaN   \n",
       "1900        ...               NaN          NaN          NaN          NaN   \n",
       "1901        ...               NaN          NaN          NaN          NaN   \n",
       "1902        ...               NaN          NaN          NaN          NaN   \n",
       "\n",
       "station  USW00024243  USW00024244  USW00094103  USW00094197  USW00094227  \\\n",
       "year                                                                       \n",
       "1890             NaN          NaN          NaN          NaN          NaN   \n",
       "1893             NaN          NaN          NaN          NaN          NaN   \n",
       "1900             NaN          NaN          NaN          NaN          NaN   \n",
       "1901             NaN          NaN          NaN          NaN          NaN   \n",
       "1902             NaN          NaN          NaN          NaN          NaN   \n",
       "\n",
       "station  USW00094290  \n",
       "year                  \n",
       "1890             NaN  \n",
       "1893             NaN  \n",
       "1900             NaN  \n",
       "1901             NaN  \n",
       "1902             NaN  \n",
       "\n",
       "[5 rows x 264 columns]"
      ]
     },
     "execution_count": 69,
     "metadata": {},
     "output_type": "execute_result"
    }
   ],
   "source": [
    "year_station_table=pdf.pivot(index='year', columns='station', values='coeff_2')\n",
    "year_station_table.head(5)"
   ]
  },
  {
   "cell_type": "code",
   "execution_count": 55,
   "metadata": {
    "ExecuteTime": {
     "end_time": "2018-04-26T15:39:11.652326Z",
     "start_time": "2018-04-26T15:39:11.394276Z"
    },
    "scrolled": true,
    "slideshow": {
     "slide_type": "subslide"
    }
   },
   "outputs": [
    {
     "data": {
      "text/plain": [
       "Text(0,0.5,'Number of stations')"
      ]
     },
     "execution_count": 55,
     "metadata": {},
     "output_type": "execute_result"
    },
    {
     "data": {
      "image/png": "[encoded data removed]",
      "text/plain": [
       "<Figure size 432x288 with 1 Axes>"
      ]
     },
     "metadata": {},
     "output_type": "display_data"
    }
   ],
   "source": [
    "station_nulls=pd.isnull(year_station_table).mean()\n",
    "station_nulls.hist();\n",
    "xlabel('Fraction of years that are undefined')\n",
    "ylabel('Number of stations')"
   ]
  },
  {
   "cell_type": "code",
   "execution_count": 56,
   "metadata": {
    "ExecuteTime": {
     "end_time": "2018-04-26T15:39:12.734152Z",
     "start_time": "2018-04-26T15:39:12.606589Z"
    },
    "scrolled": true,
    "slideshow": {
     "slide_type": "subslide"
    }
   },
   "outputs": [
    {
     "data": {
      "text/plain": [
       "Text(0,0.5,'fraction of stations that are undefined')"
      ]
     },
     "execution_count": 56,
     "metadata": {},
     "output_type": "execute_result"
    },
    {
     "data": {
      "image/png": "[encoded data removed]",
      "text/plain": [
       "<Figure size 432x288 with 1 Axes>"
      ]
     },
     "metadata": {},
     "output_type": "display_data"
    }
   ],
   "source": [
    "year_nulls=pd.isnull(year_station_table).mean(axis=1)\n",
    "year_nulls.plot();\n",
    "grid()\n",
    "ylabel('fraction of stations that are undefined')"
   ]
  },
  {
   "cell_type": "code",
   "execution_count": 70,
   "metadata": {
    "ExecuteTime": {
     "end_time": "2018-04-26T15:39:13.462452Z",
     "start_time": "2018-04-26T15:39:13.435062Z"
    },
    "slideshow": {
     "slide_type": "subslide"
    }
   },
   "outputs": [
    {
     "data": {
      "text/html": [
       "<div>\n",
       "<style scoped>\n",
       "    .dataframe tbody tr th:only-of-type {\n",
       "        vertical-align: middle;\n",
       "    }\n",
       "\n",
       "    .dataframe tbody tr th {\n",
       "        vertical-align: top;\n",
       "    }\n",
       "\n",
       "    .dataframe thead th {\n",
       "        text-align: right;\n",
       "    }\n",
       "</style>\n",
       "<table border=\"1\" class=\"dataframe\">\n",
       "  <thead>\n",
       "    <tr style=\"text-align: right;\">\n",
       "      <th>station</th>\n",
       "      <th>USC00450008</th>\n",
       "      <th>USC00450013</th>\n",
       "      <th>USC00450158</th>\n",
       "      <th>USC00450176</th>\n",
       "      <th>USC00450184</th>\n",
       "      <th>USC00450217</th>\n",
       "      <th>USC00450257</th>\n",
       "      <th>USC00450456</th>\n",
       "      <th>USC00450482</th>\n",
       "      <th>USC00450564</th>\n",
       "      <th>...</th>\n",
       "      <th>USC00459342</th>\n",
       "      <th>USC00459376</th>\n",
       "      <th>USC00459455</th>\n",
       "      <th>USC00459463</th>\n",
       "      <th>USW00024141</th>\n",
       "      <th>USW00024219</th>\n",
       "      <th>USW00024239</th>\n",
       "      <th>USW00094197</th>\n",
       "      <th>USW00094227</th>\n",
       "      <th>USW00094290</th>\n",
       "    </tr>\n",
       "    <tr>\n",
       "      <th>year</th>\n",
       "      <th></th>\n",
       "      <th></th>\n",
       "      <th></th>\n",
       "      <th></th>\n",
       "      <th></th>\n",
       "      <th></th>\n",
       "      <th></th>\n",
       "      <th></th>\n",
       "      <th></th>\n",
       "      <th></th>\n",
       "      <th></th>\n",
       "      <th></th>\n",
       "      <th></th>\n",
       "      <th></th>\n",
       "      <th></th>\n",
       "      <th></th>\n",
       "      <th></th>\n",
       "      <th></th>\n",
       "      <th></th>\n",
       "      <th></th>\n",
       "      <th></th>\n",
       "    </tr>\n",
       "  </thead>\n",
       "  <tbody>\n",
       "    <tr>\n",
       "      <th>2009</th>\n",
       "      <td>-313.621377</td>\n",
       "      <td>NaN</td>\n",
       "      <td>NaN</td>\n",
       "      <td>-377.671774</td>\n",
       "      <td>NaN</td>\n",
       "      <td>NaN</td>\n",
       "      <td>NaN</td>\n",
       "      <td>-56.144153</td>\n",
       "      <td>NaN</td>\n",
       "      <td>NaN</td>\n",
       "      <td>...</td>\n",
       "      <td>NaN</td>\n",
       "      <td>612.324708</td>\n",
       "      <td>447.364296</td>\n",
       "      <td>NaN</td>\n",
       "      <td>NaN</td>\n",
       "      <td>NaN</td>\n",
       "      <td>NaN</td>\n",
       "      <td>520.592791</td>\n",
       "      <td>NaN</td>\n",
       "      <td>NaN</td>\n",
       "    </tr>\n",
       "    <tr>\n",
       "      <th>2010</th>\n",
       "      <td>-561.142547</td>\n",
       "      <td>NaN</td>\n",
       "      <td>NaN</td>\n",
       "      <td>-666.752819</td>\n",
       "      <td>NaN</td>\n",
       "      <td>46.429713</td>\n",
       "      <td>NaN</td>\n",
       "      <td>-296.607344</td>\n",
       "      <td>NaN</td>\n",
       "      <td>NaN</td>\n",
       "      <td>...</td>\n",
       "      <td>NaN</td>\n",
       "      <td>265.416489</td>\n",
       "      <td>199.722275</td>\n",
       "      <td>NaN</td>\n",
       "      <td>NaN</td>\n",
       "      <td>NaN</td>\n",
       "      <td>NaN</td>\n",
       "      <td>264.544616</td>\n",
       "      <td>NaN</td>\n",
       "      <td>NaN</td>\n",
       "    </tr>\n",
       "    <tr>\n",
       "      <th>2011</th>\n",
       "      <td>-418.323539</td>\n",
       "      <td>NaN</td>\n",
       "      <td>NaN</td>\n",
       "      <td>-467.098583</td>\n",
       "      <td>NaN</td>\n",
       "      <td>NaN</td>\n",
       "      <td>-234.218647</td>\n",
       "      <td>-137.215591</td>\n",
       "      <td>NaN</td>\n",
       "      <td>NaN</td>\n",
       "      <td>...</td>\n",
       "      <td>NaN</td>\n",
       "      <td>471.527433</td>\n",
       "      <td>292.646367</td>\n",
       "      <td>NaN</td>\n",
       "      <td>NaN</td>\n",
       "      <td>NaN</td>\n",
       "      <td>NaN</td>\n",
       "      <td>51.673866</td>\n",
       "      <td>NaN</td>\n",
       "      <td>NaN</td>\n",
       "    </tr>\n",
       "    <tr>\n",
       "      <th>2012</th>\n",
       "      <td>-502.429946</td>\n",
       "      <td>NaN</td>\n",
       "      <td>NaN</td>\n",
       "      <td>-454.611990</td>\n",
       "      <td>NaN</td>\n",
       "      <td>NaN</td>\n",
       "      <td>-280.022369</td>\n",
       "      <td>-151.809660</td>\n",
       "      <td>NaN</td>\n",
       "      <td>NaN</td>\n",
       "      <td>...</td>\n",
       "      <td>NaN</td>\n",
       "      <td>466.198585</td>\n",
       "      <td>289.852255</td>\n",
       "      <td>NaN</td>\n",
       "      <td>NaN</td>\n",
       "      <td>NaN</td>\n",
       "      <td>NaN</td>\n",
       "      <td>NaN</td>\n",
       "      <td>NaN</td>\n",
       "      <td>-153.472456</td>\n",
       "    </tr>\n",
       "    <tr>\n",
       "      <th>2013</th>\n",
       "      <td>-70.366298</td>\n",
       "      <td>NaN</td>\n",
       "      <td>NaN</td>\n",
       "      <td>NaN</td>\n",
       "      <td>NaN</td>\n",
       "      <td>NaN</td>\n",
       "      <td>76.496942</td>\n",
       "      <td>90.177152</td>\n",
       "      <td>NaN</td>\n",
       "      <td>NaN</td>\n",
       "      <td>...</td>\n",
       "      <td>NaN</td>\n",
       "      <td>374.798912</td>\n",
       "      <td>188.589188</td>\n",
       "      <td>NaN</td>\n",
       "      <td>NaN</td>\n",
       "      <td>NaN</td>\n",
       "      <td>NaN</td>\n",
       "      <td>NaN</td>\n",
       "      <td>NaN</td>\n",
       "      <td>-187.800191</td>\n",
       "    </tr>\n",
       "  </tbody>\n",
       "</table>\n",
       "<p>5 rows × 223 columns</p>\n",
       "</div>"
      ],
      "text/plain": [
       "station  USC00450008  USC00450013  USC00450158  USC00450176  USC00450184  \\\n",
       "year                                                                       \n",
       "2009     -313.621377          NaN          NaN  -377.671774          NaN   \n",
       "2010     -561.142547          NaN          NaN  -666.752819          NaN   \n",
       "2011     -418.323539          NaN          NaN  -467.098583          NaN   \n",
       "2012     -502.429946          NaN          NaN  -454.611990          NaN   \n",
       "2013      -70.366298          NaN          NaN          NaN          NaN   \n",
       "\n",
       "station  USC00450217  USC00450257  USC00450456  USC00450482  USC00450564  \\\n",
       "year                                                                       \n",
       "2009             NaN          NaN   -56.144153          NaN          NaN   \n",
       "2010       46.429713          NaN  -296.607344          NaN          NaN   \n",
       "2011             NaN  -234.218647  -137.215591          NaN          NaN   \n",
       "2012             NaN  -280.022369  -151.809660          NaN          NaN   \n",
       "2013             NaN    76.496942    90.177152          NaN          NaN   \n",
       "\n",
       "station     ...       USC00459342  USC00459376  USC00459455  USC00459463  \\\n",
       "year        ...                                                            \n",
       "2009        ...               NaN   612.324708   447.364296          NaN   \n",
       "2010        ...               NaN   265.416489   199.722275          NaN   \n",
       "2011        ...               NaN   471.527433   292.646367          NaN   \n",
       "2012        ...               NaN   466.198585   289.852255          NaN   \n",
       "2013        ...               NaN   374.798912   188.589188          NaN   \n",
       "\n",
       "station  USW00024141  USW00024219  USW00024239  USW00094197  USW00094227  \\\n",
       "year                                                                       \n",
       "2009             NaN          NaN          NaN   520.592791          NaN   \n",
       "2010             NaN          NaN          NaN   264.544616          NaN   \n",
       "2011             NaN          NaN          NaN    51.673866          NaN   \n",
       "2012             NaN          NaN          NaN          NaN          NaN   \n",
       "2013             NaN          NaN          NaN          NaN          NaN   \n",
       "\n",
       "station  USW00094290  \n",
       "year                  \n",
       "2009             NaN  \n",
       "2010             NaN  \n",
       "2011             NaN  \n",
       "2012     -153.472456  \n",
       "2013     -187.800191  \n",
       "\n",
       "[5 rows x 223 columns]"
      ]
     },
     "execution_count": 70,
     "metadata": {},
     "output_type": "execute_result"
    }
   ],
   "source": [
    "pdf2=pdf[pdf['year']>1960]\n",
    "year_station_table=pdf2.pivot(index='year', columns='station', values='coeff_2')\n",
    "year_station_table.tail(5)"
   ]
  },
  {
   "cell_type": "code",
   "execution_count": 59,
   "metadata": {
    "ExecuteTime": {
     "end_time": "2018-04-26T15:39:14.354001Z",
     "start_time": "2018-04-26T15:39:14.215303Z"
    },
    "slideshow": {
     "slide_type": "subslide"
    }
   },
   "outputs": [
    {
     "data": {
      "text/plain": [
       "Text(0,0.5,'Number of stations')"
      ]
     },
     "execution_count": 59,
     "metadata": {},
     "output_type": "execute_result"
    },
    {
     "data": {
      "image/png": "[encoded data removed]",
      "text/plain": [
       "<Figure size 432x288 with 1 Axes>"
      ]
     },
     "metadata": {},
     "output_type": "display_data"
    }
   ],
   "source": [
    "station_nulls=pd.isnull(year_station_table).mean()\n",
    "station_nulls.hist();\n",
    "xlabel('Fraction of years that are undefined')\n",
    "ylabel('Number of stations')"
   ]
  },
  {
   "cell_type": "markdown",
   "metadata": {
    "slideshow": {
     "slide_type": "slide"
    }
   },
   "source": [
    "### Estimating the effect of the year vs the effect of the station\n",
    "\n",
    "To estimate the effect of time vs. location on the second eigenvector coefficient we\n",
    "compute:\n",
    "\n",
    "* The average row: `mean-by-station`\n",
    "* The average column: `mean-by-year`\n",
    "\n",
    "We then compute the RMS before and after subtracting either  the row or the column vector."
   ]
  },
  {
   "cell_type": "code",
   "execution_count": 71,
   "metadata": {
    "ExecuteTime": {
     "end_time": "2018-04-26T15:39:17.327951Z",
     "start_time": "2018-04-26T15:39:17.208983Z"
    },
    "hide_input": true,
    "slideshow": {
     "slide_type": "subslide"
    }
   },
   "outputs": [
    {
     "name": "stdout",
     "output_type": "stream",
     "text": [
      "total RMS                   =  347.9303001503575\n",
      "RMS removing mean-by-station=  123.71386591664832 reduction= 224.21643423370915\n",
      "RMS removing mean-by-year   =  336.4093813076728 reduction= 11.520918842684694\n"
     ]
    }
   ],
   "source": [
    "def RMS(Mat):\n",
    "    return np.sqrt(np.nanmean(Mat**2))\n",
    "\n",
    "mean_by_year=np.nanmean(year_station_table,axis=1)\n",
    "mean_by_station=np.nanmean(year_station_table,axis=0)\n",
    "tbl_minus_year = (year_station_table.transpose()-mean_by_year).transpose()\n",
    "tbl_minus_station = year_station_table-mean_by_station\n",
    "\n",
    "print('total RMS                   = ',RMS(year_station_table))\n",
    "print('RMS removing mean-by-station= ',RMS(tbl_minus_station),'reduction=',RMS(year_station_table)-RMS(tbl_minus_station))\n",
    "print('RMS removing mean-by-year   = ',RMS(tbl_minus_year),'reduction=',RMS(year_station_table)-RMS(tbl_minus_year))"
   ]
  },
  {
   "cell_type": "markdown",
   "metadata": {
    "slideshow": {
     "slide_type": "subslide"
    }
   },
   "source": [
    "### Conclusion Of Analysis\n",
    "The effect of time is about four times as large as the effect of location."
   ]
  },
  {
   "cell_type": "markdown",
   "metadata": {
    "slideshow": {
     "slide_type": "slide"
    }
   },
   "source": [
    "### Iterative reduction\n",
    "* After removing one component, the other component can have an effect.\n",
    "* We can use **alternating minimization** to remove the combined effect of location and time."
   ]
  },
  {
   "cell_type": "code",
   "execution_count": 65,
   "metadata": {
    "ExecuteTime": {
     "end_time": "2018-04-26T15:39:21.340650Z",
     "start_time": "2018-04-26T15:39:21.311423Z"
    },
    "slideshow": {
     "slide_type": "subslide"
    }
   },
   "outputs": [
    {
     "name": "stdout",
     "output_type": "stream",
     "text": [
      "initial RMS= 672.0107306222479\n",
      "0 after removing mean by year    = 655.0461207687267\n",
      "0 after removing mean by stations= 340.9757451331049\n",
      "1 after removing mean by year    = 340.25928088352936\n",
      "1 after removing mean by stations= 340.19617341471644\n",
      "2 after removing mean by year    = 340.1857965091708\n",
      "2 after removing mean by stations= 340.18354374991776\n",
      "3 after removing mean by year    = 340.18300281016485\n",
      "3 after removing mean by stations= 340.18286888593167\n",
      "4 after removing mean by year    = 340.1828354392231\n",
      "4 after removing mean by stations= 340.18282706562456\n"
     ]
    }
   ],
   "source": [
    "T=year_station_table\n",
    "print('initial RMS=',RMS(T))\n",
    "for i in range(5):\n",
    "    mean_by_year=np.nanmean(T,axis=1)\n",
    "    T=(T.transpose()-mean_by_year).transpose()\n",
    "    print(i,'after removing mean by year    =',RMS(T))\n",
    "    mean_by_station=np.nanmean(T,axis=0)\n",
    "    T=T-mean_by_station\n",
    "    print(i,'after removing mean by stations=',RMS(T))"
   ]
  },
  {
   "cell_type": "code",
   "execution_count": 66,
   "metadata": {
    "ExecuteTime": {
     "end_time": "2018-04-26T15:39:21.878505Z",
     "start_time": "2018-04-26T15:39:21.871491Z"
    },
    "slideshow": {
     "slide_type": "skip"
    }
   },
   "outputs": [
    {
     "data": {
      "text/plain": [
       "year\n",
       "1961    0.278621\n",
       "1962    0.254761\n",
       "1963    0.248498\n",
       "1964    0.236219\n",
       "1965    0.220411\n",
       "Name: mean_by_year, dtype: float64"
      ]
     },
     "execution_count": 66,
     "metadata": {},
     "output_type": "execute_result"
    }
   ],
   "source": [
    "T['mean_by_year']=mean_by_year\n",
    "T['mean_by_year'].head()"
   ]
  },
  {
   "cell_type": "code",
   "execution_count": 67,
   "metadata": {
    "ExecuteTime": {
     "end_time": "2018-04-26T15:39:22.667895Z",
     "start_time": "2018-04-26T15:39:22.504332Z"
    },
    "slideshow": {
     "slide_type": "slide"
    }
   },
   "outputs": [
    {
     "data": {
      "image/png": "[encoded data removed]",
      "text/plain": [
       "<Figure size 720x432 with 1 Axes>"
      ]
     },
     "metadata": {},
     "output_type": "display_data"
    }
   ],
   "source": [
    "figure(figsize=(10,6))\n",
    "T['mean_by_year'].plot();\n",
    "grid()\n",
    "title('A graph showing that in WA state, Snow season has been getting earlier ');"
   ]
  },
  {
   "cell_type": "markdown",
   "metadata": {
    "slideshow": {
     "slide_type": "slide"
    }
   },
   "source": [
    "## Summary\n",
    "* The problem of missing data is prevalent and needs to be addressed.\n",
    "* RMS can be used to quantify the effect of different factors (here, time vs. space)\n",
    "* The snow season in NY has been getting earlier and earlier since 1960."
   ]
  },
  {
   "cell_type": "code",
   "execution_count": null,
   "metadata": {},
   "outputs": [],
   "source": []
  }
 ],
 "metadata": {
  "anaconda-cloud": {},
  "celltoolbar": "Slideshow",
  "hide_input": false,
  "kernelspec": {
   "display_name": "Python 3",
   "language": "python",
   "name": "python3"
  },
  "language_info": {
   "codemirror_mode": {
    "name": "ipython",
    "version": 3
   },
   "file_extension": ".py",
   "mimetype": "text/x-python",
   "name": "python",
   "nbconvert_exporter": "python",
   "pygments_lexer": "ipython3",
   "version": "3.6.5"
  },
  "toc": {
   "nav_menu": {
    "height": "174px",
    "width": "252px"
   },
   "number_sections": true,
   "sideBar": true,
   "skip_h1_title": false,
   "title_cell": "Table of Contents",
   "title_sidebar": "Contents",
   "toc_cell": false,
   "toc_position": {},
   "toc_section_display": "block",
   "toc_window_display": false
  },
  "widgets": {
   "state": {},
   "version": "1.0.0"
  }
 },
 "nbformat": 4,
 "nbformat_minor": 1
}

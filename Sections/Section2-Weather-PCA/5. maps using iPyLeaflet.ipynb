{
 "cells": [
  {
   "cell_type": "code",
   "execution_count": 1,
   "metadata": {
    "ExecuteTime": {
     "end_time": "2018-04-26T15:19:38.069330Z",
     "start_time": "2018-04-26T15:19:37.933073Z"
    },
    "slideshow": {
     "slide_type": "skip"
    }
   },
   "outputs": [
    {
     "name": "stdout",
     "output_type": "stream",
     "text": [
      "decon_WA_PRCP_s20.parquet  STAT_WA.pickle  WA.tgz\r\n",
      "stations.parquet\t   WA.parquet\t   Weather_Stations.tgz\r\n"
     ]
    }
   ],
   "source": [
    "!ls ../Data/Weather/"
   ]
  },
  {
   "cell_type": "code",
   "execution_count": 2,
   "metadata": {
    "ExecuteTime": {
     "end_time": "2018-04-26T15:17:49.660935Z",
     "start_time": "2018-04-26T15:17:49.331615Z"
    },
    "slideshow": {
     "slide_type": "skip"
    }
   },
   "outputs": [
    {
     "name": "stdout",
     "output_type": "stream",
     "text": [
      "Populating the interactive namespace from numpy and matplotlib\n"
     ]
    }
   ],
   "source": [
    "import ipyleaflet\n",
    "%pylab inline"
   ]
  },
  {
   "cell_type": "code",
   "execution_count": 3,
   "metadata": {
    "ExecuteTime": {
     "end_time": "2018-04-26T15:17:49.666209Z",
     "start_time": "2018-04-26T15:17:49.662769Z"
    },
    "slideshow": {
     "slide_type": "skip"
    }
   },
   "outputs": [],
   "source": [
    "from ipyleaflet import (\n",
    "    Map,\n",
    "    Marker,\n",
    "    TileLayer, ImageOverlay,\n",
    "    Polyline, Polygon, Rectangle, Circle, CircleMarker,\n",
    "    GeoJSON,\n",
    "    DrawControl\n",
    ")"
   ]
  },
  {
   "cell_type": "markdown",
   "metadata": {
    "slideshow": {
     "slide_type": "slide"
    }
   },
   "source": [
    "## Visualizing the distribution coefficients on a map"
   ]
  },
  {
   "cell_type": "markdown",
   "metadata": {
    "slideshow": {
     "slide_type": "subslide"
    }
   },
   "source": [
    "## Loading libraries and information"
   ]
  },
  {
   "cell_type": "markdown",
   "metadata": {
    "slideshow": {
     "slide_type": "skip"
    }
   },
   "source": [
    "### Load the required libraries"
   ]
  },
  {
   "cell_type": "code",
   "execution_count": 4,
   "metadata": {
    "ExecuteTime": {
     "end_time": "2018-04-26T15:17:50.089027Z",
     "start_time": "2018-04-26T15:17:49.668188Z"
    },
    "slideshow": {
     "slide_type": "skip"
    }
   },
   "outputs": [],
   "source": [
    "import pandas as pd\n",
    "import numpy as np\n",
    "import sklearn as sk\n",
    "import urllib\n",
    "import math"
   ]
  },
  {
   "cell_type": "code",
   "execution_count": 5,
   "metadata": {
    "ExecuteTime": {
     "end_time": "2018-04-26T15:17:52.819716Z",
     "start_time": "2018-04-26T15:17:50.091241Z"
    },
    "slideshow": {
     "slide_type": "skip"
    }
   },
   "outputs": [],
   "source": [
    "import findspark\n",
    "findspark.init()\n",
    "\n",
    "from pyspark import SparkContext\n",
    "#sc.stop()\n",
    "sc = SparkContext(master=\"local[3]\",pyFiles=['lib/numpy_pack.py','lib/spark_PCA.py','lib/computeStatistics.py'])\n",
    "\n",
    "from pyspark import SparkContext\n",
    "from pyspark.sql import *\n",
    "sqlContext = SQLContext(sc)"
   ]
  },
  {
   "cell_type": "code",
   "execution_count": 6,
   "metadata": {
    "ExecuteTime": {
     "end_time": "2018-04-26T15:17:52.843124Z",
     "start_time": "2018-04-26T15:17:52.822038Z"
    },
    "slideshow": {
     "slide_type": "skip"
    }
   },
   "outputs": [],
   "source": [
    "import numpy as np\n",
    "from lib.numpy_pack import packArray,unpackArray\n",
    "from lib.spark_PCA import computeCov\n",
    "from lib.computeStatistics import *"
   ]
  },
  {
   "cell_type": "markdown",
   "metadata": {
    "slideshow": {
     "slide_type": "subslide"
    }
   },
   "source": [
    "###  Load stations information"
   ]
  },
  {
   "cell_type": "code",
   "execution_count": 7,
   "metadata": {
    "ExecuteTime": {
     "end_time": "2018-04-26T15:17:52.993423Z",
     "start_time": "2018-04-26T15:17:52.844971Z"
    },
    "slideshow": {
     "slide_type": "skip"
    }
   },
   "outputs": [],
   "source": [
    "data_dir='../Data/Weather/'\n",
    "!du -sh $data_dir/*"
   ]
  },
  {
   "cell_type": "code",
   "execution_count": 9,
   "metadata": {
    "ExecuteTime": {
     "end_time": "2018-04-26T15:17:56.102720Z",
     "start_time": "2018-04-26T15:17:52.996085Z"
    },
    "slideshow": {
     "slide_type": "fragment"
    }
   },
   "outputs": [
    {
     "name": "stdout",
     "output_type": "stream",
     "text": [
      "+-----------+----------+--------+---------+---------+-----+----------------+\n",
      "|    Station|Dist_coast|Latitude|Longitude|Elevation|State|            Name|\n",
      "+-----------+----------+--------+---------+---------+-----+----------------+\n",
      "|USC00341900|   739.956|    36.3| -96.4667|    242.3|   OK|       CLEVELAND|\n",
      "|USC00428114|    908.22|    40.1|-111.6667|   1409.1|   UT|SPANISH FORK 1 S|\n",
      "|USC00165926|   23.8801| 29.7853| -90.1158|      0.9|   LA|   MARRERO 9 SSW|\n",
      "+-----------+----------+--------+---------+---------+-----+----------------+\n",
      "only showing top 3 rows\n",
      "\n"
     ]
    }
   ],
   "source": [
    "stations_df=sqlContext.read.parquet(data_dir+'/stations.parquet')\n",
    "stations_df.show(3)"
   ]
  },
  {
   "cell_type": "markdown",
   "metadata": {
    "slideshow": {
     "slide_type": "subslide"
    }
   },
   "source": [
    "### Load the reconstructions DataFrame\n",
    "\n",
    "For details about the columns in this DataFrame see the README notebook"
   ]
  },
  {
   "cell_type": "code",
   "execution_count": 11,
   "metadata": {
    "ExecuteTime": {
     "end_time": "2018-04-26T15:23:32.465051Z",
     "start_time": "2018-04-26T15:23:31.880068Z"
    },
    "slideshow": {
     "slide_type": "skip"
    }
   },
   "outputs": [
    {
     "name": "stdout",
     "output_type": "stream",
     "text": [
      "12636\n",
      "+-----------+-----------+--------------------+----+------------------+------------------+------------------+------------------+------------------+------------------+------------------+-----------------+------------------+---------+------------------+------------------+------------------+------------------+-------------------+------------------+------------+\n",
      "|Measurement|    Station|              Values|Year|           coeff_1|           coeff_2|           coeff_3|           coeff_4|           coeff_5|        dist_coast|         elevation|         latitude|         longitude|     name|             res_1|             res_2|             res_3|             res_4|              res_5|          res_mean|   total_var|\n",
      "+-----------+-----------+--------------------+----+------------------+------------------+------------------+------------------+------------------+------------------+------------------+-----------------+------------------+---------+------------------+------------------+------------------+------------------+-------------------+------------------+------------+\n",
      "|   TOBS_s20|USC00454486|[00 00 00 00 00 0...|1924|124.61093087524571|-36.34006274191895|-36.56833022512664|170.31445814908636|-238.8273649822969|24.202199935913086|163.10000610351562|47.37670135498047|-121.9614028930664|LANDSBURG|0.8110016974058336|0.7856528148478844|0.7872541276944054|0.4758091731246446|0.13357477603933493|0.2946642633289606|491390.03125|\n",
      "+-----------+-----------+--------------------+----+------------------+------------------+------------------+------------------+------------------+------------------+------------------+-----------------+------------------+---------+------------------+------------------+------------------+------------------+-------------------+------------------+------------+\n",
      "only showing top 1 row\n",
      "\n"
     ]
    }
   ],
   "source": [
    "### Read the data frame from a parquet file.\n",
    "\n",
    "state='WA'\n",
    "meas='TOBS_s20'\n",
    "\n",
    "#read data\n",
    "filename=data_dir+'/decon_%s_%s.parquet'%(state,meas)\n",
    "\n",
    "df=sqlContext.read.parquet(filename)\n",
    "print(df.count())\n",
    "df.show(1)"
   ]
  },
  {
   "cell_type": "markdown",
   "metadata": {
    "slideshow": {
     "slide_type": "subslide"
    }
   },
   "source": [
    "## Compute the count and average of `coef_1` for each station."
   ]
  },
  {
   "cell_type": "code",
   "execution_count": 39,
   "metadata": {
    "ExecuteTime": {
     "end_time": "2018-04-26T15:23:37.910760Z",
     "start_time": "2018-04-26T15:23:34.431577Z"
    },
    "hide_input": true,
    "scrolled": true,
    "slideshow": {
     "slide_type": "fragment"
    }
   },
   "outputs": [
    {
     "name": "stdout",
     "output_type": "stream",
     "text": [
      "SELECT station, latitude,longitude,elevation,Dist_coast,coeff_2 FROM weather\n"
     ]
    },
    {
     "data": {
      "text/html": [
       "<div>\n",
       "<style scoped>\n",
       "    .dataframe tbody tr th:only-of-type {\n",
       "        vertical-align: middle;\n",
       "    }\n",
       "\n",
       "    .dataframe tbody tr th {\n",
       "        vertical-align: top;\n",
       "    }\n",
       "\n",
       "    .dataframe thead th {\n",
       "        text-align: right;\n",
       "    }\n",
       "</style>\n",
       "<table border=\"1\" class=\"dataframe\">\n",
       "  <thead>\n",
       "    <tr style=\"text-align: right;\">\n",
       "      <th></th>\n",
       "      <th>station</th>\n",
       "      <th>latitude</th>\n",
       "      <th>longitude</th>\n",
       "      <th>elevation</th>\n",
       "      <th>Dist_coast</th>\n",
       "      <th>count(station)</th>\n",
       "      <th>avg(coeff_2)</th>\n",
       "    </tr>\n",
       "  </thead>\n",
       "  <tbody>\n",
       "    <tr>\n",
       "      <th>66</th>\n",
       "      <td>USC00450008</td>\n",
       "      <td>46.965801</td>\n",
       "      <td>-123.829201</td>\n",
       "      <td>3.000000</td>\n",
       "      <td>1.311030</td>\n",
       "      <td>112</td>\n",
       "      <td>-470.592664</td>\n",
       "    </tr>\n",
       "    <tr>\n",
       "      <th>40</th>\n",
       "      <td>USC00450013</td>\n",
       "      <td>47.261398</td>\n",
       "      <td>-123.714699</td>\n",
       "      <td>132.600006</td>\n",
       "      <td>33.051102</td>\n",
       "      <td>49</td>\n",
       "      <td>-344.811052</td>\n",
       "    </tr>\n",
       "    <tr>\n",
       "      <th>244</th>\n",
       "      <td>USC00450094</td>\n",
       "      <td>46.799999</td>\n",
       "      <td>-122.316704</td>\n",
       "      <td>396.799988</td>\n",
       "      <td>42.074501</td>\n",
       "      <td>38</td>\n",
       "      <td>-310.505880</td>\n",
       "    </tr>\n",
       "    <tr>\n",
       "      <th>225</th>\n",
       "      <td>USC00450158</td>\n",
       "      <td>47.466702</td>\n",
       "      <td>-123.883301</td>\n",
       "      <td>64.000000</td>\n",
       "      <td>34.400002</td>\n",
       "      <td>7</td>\n",
       "      <td>-319.328546</td>\n",
       "    </tr>\n",
       "    <tr>\n",
       "      <th>23</th>\n",
       "      <td>USC00450176</td>\n",
       "      <td>48.511902</td>\n",
       "      <td>-122.613602</td>\n",
       "      <td>6.100000</td>\n",
       "      <td>0.681926</td>\n",
       "      <td>95</td>\n",
       "      <td>-466.334535</td>\n",
       "    </tr>\n",
       "  </tbody>\n",
       "</table>\n",
       "</div>"
      ],
      "text/plain": [
       "         station   latitude   longitude   elevation  Dist_coast  \\\n",
       "66   USC00450008  46.965801 -123.829201    3.000000    1.311030   \n",
       "40   USC00450013  47.261398 -123.714699  132.600006   33.051102   \n",
       "244  USC00450094  46.799999 -122.316704  396.799988   42.074501   \n",
       "225  USC00450158  47.466702 -123.883301   64.000000   34.400002   \n",
       "23   USC00450176  48.511902 -122.613602    6.100000    0.681926   \n",
       "\n",
       "     count(station)  avg(coeff_2)  \n",
       "66              112   -470.592664  \n",
       "40               49   -344.811052  \n",
       "244              38   -310.505880  \n",
       "225               7   -319.328546  \n",
       "23               95   -466.334535  "
      ]
     },
     "execution_count": 39,
     "metadata": {},
     "output_type": "execute_result"
    }
   ],
   "source": [
    "#extract longitude and latitude for each station\n",
    "feature='coeff_2'\n",
    "sqlContext.registerDataFrameAsTable(df,'weather')\n",
    "Query=\"SELECT station, latitude,longitude,elevation,Dist_coast,%s FROM weather\"%feature\n",
    "print(Query)\n",
    "df1 = sqlContext.sql(Query)\n",
    "\n",
    "df2=df1.groupby(['station','latitude','longitude','elevation','Dist_coast']).agg({\"station\": \"count\", feature: \"mean\"})\n",
    "#df2=df1.groupby(['station']).agg({\"station\": \"count\", feature: \"mean\"})\n",
    "pdf=df2.toPandas()\n",
    "pdf.sort_values(by=['station'],inplace=True)\n",
    "pdf.head(5)"
   ]
  },
  {
   "cell_type": "code",
   "execution_count": 40,
   "metadata": {
    "ExecuteTime": {
     "end_time": "2018-04-26T15:23:38.797161Z",
     "start_time": "2018-04-26T15:23:38.791095Z"
    },
    "slideshow": {
     "slide_type": "skip"
    }
   },
   "outputs": [],
   "source": [
    "# Find long/lat bounding box\n",
    "max_long=pdf['longitude'].max()\n",
    "min_long=pdf['longitude'].min()\n",
    "max_lat=pdf['latitude'].max()\n",
    "min_lat=pdf['latitude'].min()\n"
   ]
  },
  {
   "cell_type": "code",
   "execution_count": 59,
   "metadata": {
    "ExecuteTime": {
     "end_time": "2018-04-26T15:23:39.433574Z",
     "start_time": "2018-04-26T15:23:39.422373Z"
    },
    "slideshow": {
     "slide_type": "skip"
    }
   },
   "outputs": [],
   "source": [
    "#define a mapping from the range of the value to hex colors.\n",
    "from matplotlib.colors import rgb2hex\n",
    "_avg='avg(%s)'%feature\n",
    "_min=pdf[_avg].min()\n",
    "_max=pdf[_avg].max()\n",
    "_min,_max\n",
    "\n",
    "import pylab as plt\n",
    "cmap=plt.get_cmap('jet')\n",
    "def get_color(val):\n",
    "    x=(val-_min)/(_max-_min)\n",
    "    return(rgb2hex(cmap(x)[:3]))\n"
   ]
  },
  {
   "cell_type": "markdown",
   "metadata": {
    "slideshow": {
     "slide_type": "slide"
    }
   },
   "source": [
    "## Map\n",
    "* Each circle is centered at a station.  \n",
    "* The area of the circle corresponds to the number of years SNWD was recorded at the station.  \n",
    "* The color fill of the circle corresponds to the value of `avg(coeff_1)` defined by color-bar."
   ]
  },
  {
   "cell_type": "code",
   "execution_count": null,
   "metadata": {},
   "outputs": [],
   "source": []
  },
  {
   "cell_type": "code",
   "execution_count": 60,
   "metadata": {
    "ExecuteTime": {
     "end_time": "2018-04-26T15:23:42.653309Z",
     "start_time": "2018-04-26T15:23:42.439703Z"
    },
    "hide_input": false,
    "slideshow": {
     "slide_type": "fragment"
    }
   },
   "outputs": [
    {
     "data": {
      "image/png": "[encoded data removed]",
      "text/plain": [
       "<Figure size 720x72 with 1 Axes>"
      ]
     },
     "metadata": {},
     "output_type": "display_data"
    }
   ],
   "source": [
    "#def color_bar(_min,_max)\n",
    "import pylab as plt\n",
    "from matplotlib.pyplot import xticks,yticks\n",
    "figure(figsize=[10,1])\n",
    "ax = plt.subplot(111)\n",
    "vals=cmap(np.arange(0,1,0.005))[:,:3]\n",
    "vals3=np.stack([vals]*10)\n",
    "vals3.shape\n",
    "ax.imshow(vals3);\n",
    "\n",
    "midpoint=200.*-_min/(_max-_min)\n",
    "xticks((0,midpoint,200),[\"%4.1f\"%v for v in (_min,0.,_max)])\n",
    "yticks(());\n"
   ]
  },
  {
   "cell_type": "code",
   "execution_count": 61,
   "metadata": {
    "ExecuteTime": {
     "end_time": "2018-04-26T15:23:45.293487Z",
     "start_time": "2018-04-26T15:23:43.903067Z"
    },
    "hide_input": true,
    "slideshow": {
     "slide_type": "fragment"
    }
   },
   "outputs": [
    {
     "data": {
      "application/vnd.jupyter.widget-view+json": {
       "model_id": "d195c0ea86664ff3ac924ede54b49675",
       "version_major": 2,
       "version_minor": 0
      },
      "text/html": [
       "<p>Failed to display Jupyter Widget of type <code>Map</code>.</p>\n",
       "<p>\n",
       "  If you're reading this message in the Jupyter Notebook or JupyterLab Notebook, it may mean\n",
       "  that the widgets JavaScript is still loading. If this message persists, it\n",
       "  likely means that the widgets JavaScript library is either not installed or\n",
       "  not enabled. See the <a href=\"https://ipywidgets.readthedocs.io/en/stable/user_install.html\">Jupyter\n",
       "  Widgets Documentation</a> for setup instructions.\n",
       "</p>\n",
       "<p>\n",
       "  If you're reading this message in another frontend (for example, a static\n",
       "  rendering on GitHub or <a href=\"https://nbviewer.jupyter.org/\">NBViewer</a>),\n",
       "  it may mean that your frontend doesn't currently support widgets.\n",
       "</p>\n"
      ],
      "text/plain": [
       "Map(basemap={'url': 'https://{s}.tile.openstreetmap.org/{z}/{x}/{y}.png', 'max_zoom': 19, 'attribution': 'Map data (c) <a href=\"https://openstreetmap.org\">OpenStreetMap</a> contributors'}, center=[47.29999923706055, -120.89039993286133], layers=(TileLayer(base=True, max_zoom=19, min_zoom=1, options=['attribution', 'detect_retina', 'max_zoom', 'min_zoom', 'tile_size']), Rectangle(bounds=[[45.599998474121094, -124.7332992553711], [49.0, -117.04750061035156]], fill_opacity=0.0, options=['class_name', 'clickable', 'color', 'dash_array', 'fill', 'fill_color', 'fill_opacity', 'line_cap', 'line_join', 'no_clip', 'opacity', 'pointer_events', 'smooth_factor', 'stroke', 'weight']), Circle(color='#F00', fill_color='#0024ff', fill_opacity=0.4, location=[46.96580123901367, -123.8292007446289], opacity=0.8, options=['class_name', 'clickable', 'color', 'dash_array', 'fill', 'fill_color', 'fill_opacity', 'line_cap', 'line_join', 'opacity', 'pointer_events', 'radius', 'stroke', 'weight'], radius=12699, weight=1), Circle(color='#F00', fill_color='#0088ff', fill_opacity=0.4, location=[47.26139831542969, -123.7146987915039], opacity=0.8, options=['class_name', 'clickable', 'color', 'dash_array', 'fill', 'fill_color', 'fill_opacity', 'line_cap', 'line_join', 'opacity', 'pointer_events', 'radius', 'stroke', 'weight'], radius=8400, weight=1), Circle(color='#F00', fill_color='#00a0ff', fill_opacity=0.4, location=[46.79999923706055, -122.31670379638672], opacity=0.8, options=['class_name', 'clickable', 'color', 'dash_array', 'fill', 'fill_color', 'fill_opacity', 'line_cap', 'line_join', 'opacity', 'pointer_events', 'radius', 'stroke', 'weight'], radius=7397, weight=1), Circle(color='#F00', fill_color='#009cff', fill_opacity=0.4, location=[47.46670150756836, -123.88330078125], opacity=0.8, options=['class_name', 'clickable', 'color', 'dash_array', 'fill', 'fill_color', 'fill_opacity', 'line_cap', 'line_join', 'opacity', 'pointer_events', 'radius', 'stroke', 'weight'], radius=3174, weight=1), Circle(color='#F00', fill_color='#0028ff', fill_opacity=0.4, location=[48.51190185546875, -122.61360168457031], opacity=0.8, options=['class_name', 'clickable', 'color', 'dash_array', 'fill', 'fill_color', 'fill_opacity', 'line_cap', 'line_join', 'opacity', 'pointer_events', 'radius', 'stroke', 'weight'], radius=11696, weight=1), Circle(color='#F00', fill_color='#ffea00', fill_opacity=0.4, location=[46.13330078125, -117.13330078125], opacity=0.8, options=['class_name', 'clickable', 'color', 'dash_array', 'fill', 'fill_color', 'fill_opacity', 'line_cap', 'line_join', 'opacity', 'pointer_events', 'radius', 'stroke', 'weight'], radius=9524, weight=1), Circle(color='#F00', fill_color='#f8f500', fill_opacity=0.4, location=[45.809200286865234, -121.28109741210938], opacity=0.8, options=['class_name', 'clickable', 'color', 'dash_array', 'fill', 'fill_color', 'fill_opacity', 'line_cap', 'line_join', 'opacity', 'pointer_events', 'radius', 'stroke', 'weight'], radius=8400, weight=1), Circle(color='#F00', fill_color='#60ff97', fill_opacity=0.4, location=[48.200599670410156, -122.12809753417969], opacity=0.8, options=['class_name', 'clickable', 'color', 'dash_array', 'fill', 'fill_color', 'fill_opacity', 'line_cap', 'line_join', 'opacity', 'pointer_events', 'radius', 'stroke', 'weight'], radius=3794, weight=1), Circle(color='#F00', fill_color='#43ffb4', fill_opacity=0.4, location=[47.77220153808594, -121.48190307617188], opacity=0.8, options=['class_name', 'clickable', 'color', 'dash_array', 'fill', 'fill_color', 'fill_opacity', 'line_cap', 'line_join', 'opacity', 'pointer_events', 'radius', 'stroke', 'weight'], radius=7959, weight=1), Circle(color='#F00', fill_color='#007cff', fill_opacity=0.4, location=[45.77170181274414, -122.52860260009766], opacity=0.8, options=['class_name', 'clickable', 'color', 'dash_array', 'fill', 'fill_color', 'fill_opacity', 'line_cap', 'line_join', 'opacity', 'pointer_events', 'radius', 'stroke', 'weight'], radius=9967, weight=1), Circle(color='#F00', fill_color='#007cff', fill_opacity=0.4, location=[48.78329849243164, -122.4832992553711], opacity=0.8, options=['class_name', 'clickable', 'color', 'dash_array', 'fill', 'fill_color', 'fill_opacity', 'line_cap', 'line_join', 'opacity', 'pointer_events', 'radius', 'stroke', 'weight'], radius=10111, weight=1), Circle(color='#F00', fill_color='#0078ff', fill_opacity=0.4, location=[48.7421989440918, -122.47250366210938], opacity=0.8, options=['class_name', 'clickable', 'color', 'dash_array', 'fill', 'fill_color', 'fill_opacity', 'line_cap', 'line_join', 'opacity', 'pointer_events', 'radius', 'stroke', 'weight'], radius=2939, weight=1), Circle(color='#F00', fill_color='#004cff', fill_opacity=0.4, location=[48.71780014038086, -122.51139831542969], opacity=0.8, options=['class_name', 'clickable', 'color', 'dash_array', 'fill', 'fill_color', 'fill_opacity', 'line_cap', 'line_join', 'opacity', 'pointer_events', 'radius', 'stroke', 'weight'], radius=6349, weight=1), Circle(color='#F00', fill_color='#c7ff30', fill_opacity=0.4, location=[46.28329849243164, -119.5], opacity=0.8, options=['class_name', 'clickable', 'color', 'dash_array', 'fill', 'fill_color', 'fill_opacity', 'line_cap', 'line_join', 'opacity', 'pointer_events', 'radius', 'stroke', 'weight'], radius=9059, weight=1), Circle(color='#F00', fill_color='#ffc400', fill_opacity=0.4, location=[45.99810028076172, -120.30059814453125], opacity=0.8, options=['class_name', 'clickable', 'color', 'dash_array', 'fill', 'fill_color', 'fill_opacity', 'line_cap', 'line_join', 'opacity', 'pointer_events', 'radius', 'stroke', 'weight'], radius=10998, weight=1), Circle(color='#F00', fill_color='#00b4ff', fill_opacity=0.4, location=[48.977500915527344, -122.79280090332031], opacity=0.8, options=['class_name', 'clickable', 'color', 'dash_array', 'fill', 'fill_color', 'fill_opacity', 'line_cap', 'line_join', 'opacity', 'pointer_events', 'radius', 'stroke', 'weight'], radius=11447, weight=1), Circle(color='#F00', fill_color='#ff4a00', fill_opacity=0.4, location=[47.349998474121094, -120.66670227050781], opacity=0.8, options=['class_name', 'clickable', 'color', 'dash_array', 'fill', 'fill_color', 'fill_opacity', 'line_cap', 'line_join', 'opacity', 'pointer_events', 'radius', 'stroke', 'weight'], radius=5499, weight=1), Circle(color='#F00', fill_color='#00b0ff', fill_opacity=0.4, location=[47.81669998168945, -123.7667007446289], opacity=0.8, options=['class_name', 'clickable', 'color', 'dash_array', 'fill', 'fill_color', 'fill_opacity', 'line_cap', 'line_join', 'opacity', 'pointer_events', 'radius', 'stroke', 'weight'], radius=2939, weight=1), Circle(color='#F00', fill_color='#00a0ff', fill_opacity=0.4, location=[47.766700744628906, -122.2166976928711], opacity=0.8, options=['class_name', 'clickable', 'color', 'dash_array', 'fill', 'fill_color', 'fill_opacity', 'line_cap', 'line_join', 'opacity', 'pointer_events', 'radius', 'stroke', 'weight'], radius=6000, weight=1), Circle(color='#F00', fill_color='#ff7e00', fill_opacity=0.4, location=[48.99470138549805, -117.35440063476562], opacity=0.8, options=['class_name', 'clickable', 'color', 'dash_array', 'fill', 'fill_color', 'fill_opacity', 'line_cap', 'line_join', 'opacity', 'pointer_events', 'radius', 'stroke', 'weight'], radius=8138, weight=1), Circle(color='#F00', fill_color='#ff1e00', fill_opacity=0.4, location=[48.983299255371094, -117.3499984741211], opacity=0.8, options=['class_name', 'clickable', 'color', 'dash_array', 'fill', 'fill_color', 'fill_opacity', 'line_cap', 'line_join', 'opacity', 'pointer_events', 'radius', 'stroke', 'weight'], radius=2400, weight=1), Circle(color='#F00', fill_color='#007cff', fill_opacity=0.4, location=[47.56890106201172, -122.68280029296875], opacity=0.8, options=['class_name', 'clickable', 'color', 'dash_array', 'fill', 'fill_color', 'fill_opacity', 'line_cap', 'line_join', 'opacity', 'pointer_events', 'radius', 'stroke', 'weight'], radius=9822, weight=1), Circle(color='#F00', fill_color='#00bcff', fill_opacity=0.4, location=[47.16939926147461, -122.00360107421875], opacity=0.8, options=['class_name', 'clickable', 'color', 'dash_array', 'fill', 'fill_color', 'fill_opacity', 'line_cap', 'line_join', 'opacity', 'pointer_events', 'radius', 'stroke', 'weight'], radius=11939, weight=1), Circle(color='#F00', fill_color='#ff7300', fill_opacity=0.4, location=[46.86669921875, -121.30000305175781], opacity=0.8, options=['class_name', 'clickable', 'color', 'dash_array', 'fill', 'fill_color', 'fill_opacity', 'line_cap', 'line_join', 'opacity', 'pointer_events', 'radius', 'stroke', 'weight'], radius=9138, weight=1), Circle(color='#F00', fill_color='#19ffde', fill_opacity=0.4, location=[46.983299255371094, -121.9666976928711], opacity=0.8, options=['class_name', 'clickable', 'color', 'dash_array', 'fill', 'fill_color', 'fill_opacity', 'line_cap', 'line_join', 'opacity', 'pointer_events', 'radius', 'stroke', 'weight'], radius=2939, weight=1), Circle(color='#F00', fill_color='#6dff8a', fill_opacity=0.4, location=[45.867801666259766, -121.97329711914062], opacity=0.8, options=['class_name', 'clickable', 'color', 'dash_array', 'fill', 'fill_color', 'fill_opacity', 'line_cap', 'line_join', 'opacity', 'pointer_events', 'radius', 'stroke', 'weight'], radius=7099, weight=1), Circle(color='#F00', fill_color='#0078ff', fill_opacity=0.4, location=[46.28329849243164, -122.9000015258789], opacity=0.8, options=['class_name', 'clickable', 'color', 'dash_array', 'fill', 'fill_color', 'fill_opacity', 'line_cap', 'line_join', 'opacity', 'pointer_events', 'radius', 'stroke', 'weight'], radius=5878, weight=1), Circle(color='#F00', fill_color='#00ccff', fill_opacity=0.4, location=[47.414398193359375, -121.756103515625], opacity=0.8, options=['class_name', 'clickable', 'color', 'dash_array', 'fill', 'fill_color', 'fill_opacity', 'line_cap', 'line_join', 'opacity', 'pointer_events', 'radius', 'stroke', 'weight'], radius=11939, weight=1), Circle(color='#F00', fill_color='#0078ff', fill_opacity=0.4, location=[46.720001220703125, -122.95279693603516], opacity=0.8, options=['class_name', 'clickable', 'color', 'dash_array', 'fill', 'fill_color', 'fill_opacity', 'line_cap', 'line_join', 'opacity', 'pointer_events', 'radius', 'stroke', 'weight'], radius=11509, weight=1), Circle(color='#F00', fill_color='#ff8d00', fill_opacity=0.4, location=[47.83610153198242, -120.03810119628906], opacity=0.8, options=['class_name', 'clickable', 'color', 'dash_array', 'fill', 'fill_color', 'fill_opacity', 'line_cap', 'line_join', 'opacity', 'pointer_events', 'radius', 'stroke', 'weight'], radius=9059, weight=1), Circle(color='#F00', fill_color='#ffa700', fill_opacity=0.4, location=[47.483299255371094, -117.58329772949219], opacity=0.8, options=['class_name', 'clickable', 'color', 'dash_array', 'fill', 'fill_color', 'fill_opacity', 'line_cap', 'line_join', 'opacity', 'pointer_events', 'radius', 'stroke', 'weight'], radius=5230, weight=1), Circle(color='#F00', fill_color='#9b0000', fill_opacity=0.4, location=[48.95000076293945, -119.05000305175781], opacity=0.8, options=['class_name', 'clickable', 'color', 'dash_array', 'fill', 'fill_color', 'fill_opacity', 'line_cap', 'line_join', 'opacity', 'pointer_events', 'radius', 'stroke', 'weight'], radius=6572, weight=1), Circle(color='#F00', fill_color='#da0000', fill_opacity=0.4, location=[49.0, -119.06670379638672], opacity=0.8, options=['class_name', 'clickable', 'color', 'dash_array', 'fill', 'fill_color', 'fill_opacity', 'line_cap', 'line_join', 'opacity', 'pointer_events', 'radius', 'stroke', 'weight'], radius=6118, weight=1), Circle(color='#F00', fill_color='#ff4e00', fill_opacity=0.4, location=[48.27330017089844, -117.74079895019531], opacity=0.8, options=['class_name', 'clickable', 'color', 'dash_array', 'fill', 'fill_color', 'fill_opacity', 'line_cap', 'line_join', 'opacity', 'pointer_events', 'radius', 'stroke', 'weight'], radius=11320, weight=1), Circle(color='#F00', fill_color='#ff6c00', fill_opacity=0.4, location=[47.996700286865234, -119.64830017089844], opacity=0.8, options=['class_name', 'clickable', 'color', 'dash_array', 'fill', 'fill_color', 'fill_opacity', 'line_cap', 'line_join', 'opacity', 'pointer_events', 'radius', 'stroke', 'weight'], radius=9674, weight=1), Circle(color='#F00', fill_color='#0024ff', fill_opacity=0.4, location=[48.266700744628906, -124.25], opacity=0.8, options=['class_name', 'clickable', 'color', 'dash_array', 'fill', 'fill_color', 'fill_opacity', 'line_cap', 'line_join', 'opacity', 'pointer_events', 'radius', 'stroke', 'weight'], radius=8485, weight=1), Circle(color='#F00', fill_color='#c1ff36', fill_opacity=0.4, location=[46.38330078125, -117.08329772949219], opacity=0.8, options=['class_name', 'clickable', 'color', 'dash_array', 'fill', 'fill_color', 'fill_opacity', 'line_cap', 'line_join', 'opacity', 'pointer_events', 'radius', 'stroke', 'weight'], radius=5754, weight=1), Circle(color='#F00', fill_color='#00e4f8', fill_opacity=0.4, location=[48.967201232910156, -122.3292007446289], opacity=0.8, options=['class_name', 'clickable', 'color', 'dash_array', 'fill', 'fill_color', 'fill_opacity', 'line_cap', 'line_join', 'opacity', 'pointer_events', 'radius', 'stroke', 'weight'], radius=12000, weight=1), Circle(color='#F00', fill_color='#0000ff', fill_opacity=0.4, location=[47.57109832763672, -124.29219818115234], opacity=0.8, options=['class_name', 'clickable', 'color', 'dash_array', 'fill', 'fill_color', 'fill_opacity', 'line_cap', 'line_join', 'opacity', 'pointer_events', 'radius', 'stroke', 'weight'], radius=11128, weight=1), Circle(color='#F00', fill_color='#f8f500', fill_opacity=0.4, location=[47.188899993896484, -120.91310119628906], opacity=0.8, options=['class_name', 'clickable', 'color', 'dash_array', 'fill', 'fill_color', 'fill_opacity', 'line_cap', 'line_join', 'opacity', 'pointer_events', 'radius', 'stroke', 'weight'], radius=11509, weight=1), Circle(color='#F00', fill_color='#e4ff13', fill_opacity=0.4, location=[46.88330078125, -117.3499984741211], opacity=0.8, options=['class_name', 'clickable', 'color', 'dash_array', 'fill', 'fill_color', 'fill_opacity', 'line_cap', 'line_join', 'opacity', 'pointer_events', 'radius', 'stroke', 'weight'], radius=11696, weight=1), Circle(color='#F00', fill_color='#ff2200', fill_opacity=0.4, location=[48.54719924926758, -117.90190124511719], opacity=0.8, options=['class_name', 'clickable', 'color', 'dash_array', 'fill', 'fill_color', 'fill_opacity', 'line_cap', 'line_join', 'opacity', 'pointer_events', 'radius', 'stroke', 'weight'], radius=10182, weight=1), Circle(color='#F00', fill_color='#ff6f00', fill_opacity=0.4, location=[48.54999923706055, -117.88330078125], opacity=0.8, options=['class_name', 'clickable', 'color', 'dash_array', 'fill', 'fill_color', 'fill_opacity', 'line_cap', 'line_join', 'opacity', 'pointer_events', 'radius', 'stroke', 'weight'], radius=7200, weight=1), Circle(color='#F00', fill_color='#ff2d00', fill_opacity=0.4, location=[48.55580139160156, -119.74919891357422], opacity=0.8, options=['class_name', 'clickable', 'color', 'dash_array', 'fill', 'fill_color', 'fill_opacity', 'line_cap', 'line_join', 'opacity', 'pointer_events', 'radius', 'stroke', 'weight'], radius=12585, weight=1), Circle(color='#F00', fill_color='#00d4ff', fill_opacity=0.4, location=[48.53969955444336, -121.74220275878906], opacity=0.8, options=['class_name', 'clickable', 'color', 'dash_array', 'fill', 'fill_color', 'fill_opacity', 'line_cap', 'line_join', 'opacity', 'pointer_events', 'radius', 'stroke', 'weight'], radius=12059, weight=1), Circle(color='#F00', fill_color='#ffde00', fill_opacity=0.4, location=[46.664398193359375, -118.88279724121094], opacity=0.8, options=['class_name', 'clickable', 'color', 'dash_array', 'fill', 'fill_color', 'fill_opacity', 'line_cap', 'line_join', 'opacity', 'pointer_events', 'radius', 'stroke', 'weight'], radius=7959, weight=1), Circle(color='#F00', fill_color='#00b4ff', fill_opacity=0.4, location=[46.0625, -122.2042007446289], opacity=0.8, options=['class_name', 'clickable', 'color', 'dash_array', 'fill', 'fill_color', 'fill_opacity', 'line_cap', 'line_join', 'opacity', 'pointer_events', 'radius', 'stroke', 'weight'], radius=8899, weight=1), Circle(color='#F00', fill_color='#ff6800', fill_opacity=0.4, location=[47.95439910888672, -118.99970245361328], opacity=0.8, options=['class_name', 'clickable', 'color', 'dash_array', 'fill', 'fill_color', 'fill_opacity', 'line_cap', 'line_join', 'opacity', 'pointer_events', 'radius', 'stroke', 'weight'], radius=10665, weight=1), Circle(color='#F00', fill_color='#0038ff', fill_opacity=0.4, location=[48.20719909667969, -122.69139862060547], opacity=0.8, options=['class_name', 'clickable', 'color', 'dash_array', 'fill', 'fill_color', 'fill_opacity', 'line_cap', 'line_join', 'opacity', 'pointer_events', 'radius', 'stroke', 'weight'], radius=11757, weight=1), Circle(color='#F00', fill_color='#00c4ff', fill_opacity=0.4, location=[47.42390060424805, -123.2197036743164], opacity=0.8, options=['class_name', 'clickable', 'color', 'dash_array', 'fill', 'fill_color', 'fill_opacity', 'line_cap', 'line_join', 'opacity', 'pointer_events', 'radius', 'stroke', 'weight'], radius=8485, weight=1), Circle(color='#F00', fill_color='#007cff', fill_opacity=0.4, location=[47.370601654052734, -123.16000366210938], opacity=0.8, options=['class_name', 'clickable', 'color', 'dash_array', 'fill', 'fill_color', 'fill_opacity', 'line_cap', 'line_join', 'opacity', 'pointer_events', 'radius', 'stroke', 'weight'], radius=7683, weight=1), Circle(color='#F00', fill_color='#eeff09', fill_opacity=0.4, location=[48.349998474121094, -117.31670379638672], opacity=0.8, options=['class_name', 'clickable', 'color', 'dash_array', 'fill', 'fill_color', 'fill_opacity', 'line_cap', 'line_join', 'opacity', 'pointer_events', 'radius', 'stroke', 'weight'], radius=3394, weight=1), Circle(color='#F00', fill_color='#43ffb4', fill_opacity=0.4, location=[48.2599983215332, -121.60359954833984], opacity=0.8, options=['class_name', 'clickable', 'color', 'dash_array', 'fill', 'fill_color', 'fill_opacity', 'line_cap', 'line_join', 'opacity', 'pointer_events', 'radius', 'stroke', 'weight'], radius=12000, weight=1), Circle(color='#F00', fill_color='#ff4e00', fill_opacity=0.4, location=[47.657501220703125, -118.1613998413086], opacity=0.8, options=['class_name', 'clickable', 'color', 'dash_array', 'fill', 'fill_color', 'fill_opacity', 'line_cap', 'line_join', 'opacity', 'pointer_events', 'radius', 'stroke', 'weight'], radius=11879, weight=1), Circle(color='#F00', fill_color='#beff39', fill_opacity=0.4, location=[46.31529998779297, -118.002197265625], opacity=0.8, options=['class_name', 'clickable', 'color', 'dash_array', 'fill', 'fill_color', 'fill_opacity', 'line_cap', 'line_join', 'opacity', 'pointer_events', 'radius', 'stroke', 'weight'], radius=12412, weight=1), Circle(color='#F00', fill_color='#ff4a00', fill_opacity=0.4, location=[47.96670150756836, -117.43329620361328], opacity=0.8, options=['class_name', 'clickable', 'color', 'dash_array', 'fill', 'fill_color', 'fill_opacity', 'line_cap', 'line_join', 'opacity', 'pointer_events', 'radius', 'stroke', 'weight'], radius=9822, weight=1), Circle(color='#F00', fill_color='#73ff83', fill_opacity=0.4, location=[48.71419906616211, -121.14309692382812], opacity=0.8, options=['class_name', 'clickable', 'color', 'dash_array', 'fill', 'fill_color', 'fill_opacity', 'line_cap', 'line_join', 'opacity', 'pointer_events', 'radius', 'stroke', 'weight'], radius=11757, weight=1), Circle(color='#F00', fill_color='#e1ff16', fill_opacity=0.4, location=[47.2421989440918, -121.18689727783203], opacity=0.8, options=['class_name', 'clickable', 'color', 'dash_array', 'fill', 'fill_color', 'fill_opacity', 'line_cap', 'line_join', 'opacity', 'pointer_events', 'radius', 'stroke', 'weight'], radius=5091, weight=1), Circle(color='#F00', fill_color='#73ff83', fill_opacity=0.4, location=[46.900001525878906, -122.0333023071289], opacity=0.8, options=['class_name', 'clickable', 'color', 'dash_array', 'fill', 'fill_color', 'fill_opacity', 'line_cap', 'line_join', 'opacity', 'pointer_events', 'radius', 'stroke', 'weight'], radius=7397, weight=1), Circle(color='#F00', fill_color='#ff7300', fill_opacity=0.4, location=[46.969200134277344, -120.54000091552734], opacity=0.8, options=['class_name', 'clickable', 'color', 'dash_array', 'fill', 'fill_color', 'fill_opacity', 'line_cap', 'line_join', 'opacity', 'pointer_events', 'radius', 'stroke', 'weight'], radius=9372, weight=1), Circle(color='#F00', fill_color='#0024ff', fill_opacity=0.4, location=[47.00920104980469, -123.40080261230469], opacity=0.8, options=['class_name', 'clickable', 'color', 'dash_array', 'fill', 'fill_color', 'fill_opacity', 'line_cap', 'line_join', 'opacity', 'pointer_events', 'radius', 'stroke', 'weight'], radius=10182, weight=1), Circle(color='#F00', fill_color='#e1ff16', fill_opacity=0.4, location=[46.483299255371094, -119.16670227050781], opacity=0.8, options=['class_name', 'clickable', 'color', 'dash_array', 'fill', 'fill_color', 'fill_opacity', 'line_cap', 'line_join', 'opacity', 'pointer_events', 'radius', 'stroke', 'weight'], radius=5366, weight=1), Circle(color='#F00', fill_color='#aaff4d', fill_opacity=0.4, location=[46.399200439453125, -119.15609741210938], opacity=0.8, options=['class_name', 'clickable', 'color', 'dash_array', 'fill', 'fill_color', 'fill_opacity', 'line_cap', 'line_join', 'opacity', 'pointer_events', 'radius', 'stroke', 'weight'], radius=6997, weight=1), Circle(color='#F00', fill_color='#00d0ff', fill_opacity=0.4, location=[48.01639938354492, -123.5905990600586], opacity=0.8, options=['class_name', 'clickable', 'color', 'dash_array', 'fill', 'fill_color', 'fill_opacity', 'line_cap', 'line_join', 'opacity', 'pointer_events', 'radius', 'stroke', 'weight'], radius=10111, weight=1), Circle(color='#F00', fill_color='#ffc800', fill_opacity=0.4, location=[47.698299407958984, -120.32279968261719], opacity=0.8, options=['class_name', 'clickable', 'color', 'dash_array', 'fill', 'fill_color', 'fill_opacity', 'line_cap', 'line_join', 'opacity', 'pointer_events', 'radius', 'stroke', 'weight'], radius=6000, weight=1), Circle(color='#F00', fill_color='#ff9100', fill_opacity=0.4, location=[47.31669998168945, -119.56670379638672], opacity=0.8, options=['class_name', 'clickable', 'color', 'dash_array', 'fill', 'fill_color', 'fill_opacity', 'line_cap', 'line_join', 'opacity', 'pointer_events', 'radius', 'stroke', 'weight'], radius=9448, weight=1), Circle(color='#F00', fill_color='#0070ff', fill_opacity=0.4, location=[47.97529983520508, -122.19499969482422], opacity=0.8, options=['class_name', 'clickable', 'color', 'dash_array', 'fill', 'fill_color', 'fill_opacity', 'line_cap', 'line_join', 'opacity', 'pointer_events', 'radius', 'stroke', 'weight'], radius=12000, weight=1), Circle(color='#F00', fill_color='#0040ff', fill_opacity=0.4, location=[47.9557991027832, -124.35389709472656], opacity=0.8, options=['class_name', 'clickable', 'color', 'dash_array', 'fill', 'fill_color', 'fill_opacity', 'line_cap', 'line_join', 'opacity', 'pointer_events', 'radius', 'stroke', 'weight'], radius=12412, weight=1), Circle(color='#F00', fill_color='#00e4f8', fill_opacity=0.4, location=[47.08810043334961, -122.6675033569336], opacity=0.8, options=['class_name', 'clickable', 'color', 'dash_array', 'fill', 'fill_color', 'fill_opacity', 'line_cap', 'line_join', 'opacity', 'pointer_events', 'radius', 'stroke', 'weight'], radius=2078, weight=1), Circle(color='#F00', fill_color='#83ff73', fill_opacity=0.4, location=[48.88779830932617, -121.93720245361328], opacity=0.8, options=['class_name', 'clickable', 'color', 'dash_array', 'fill', 'fill_color', 'fill_opacity', 'line_cap', 'line_join', 'opacity', 'pointer_events', 'radius', 'stroke', 'weight'], radius=9372, weight=1), Circle(color='#F00', fill_color='#00c0ff', fill_opacity=0.4, location=[46.51860046386719, -122.13829803466797], opacity=0.8, options=['class_name', 'clickable', 'color', 'dash_array', 'fill', 'fill_color', 'fill_opacity', 'line_cap', 'line_join', 'opacity', 'pointer_events', 'radius', 'stroke', 'weight'], radius=7099, weight=1), Circle(color='#F00', fill_color='#c7ff30', fill_opacity=0.4, location=[46.0088996887207, -121.26329803466797], opacity=0.8, options=['class_name', 'clickable', 'color', 'dash_array', 'fill', 'fill_color', 'fill_opacity', 'line_cap', 'line_join', 'opacity', 'pointer_events', 'radius', 'stroke', 'weight'], radius=6997, weight=1), Circle(color='#F00', fill_color='#beff39', fill_opacity=0.4, location=[45.808101654052734, -120.8427963256836], opacity=0.8, options=['class_name', 'clickable', 'color', 'dash_array', 'fill', 'fill_color', 'fill_opacity', 'line_cap', 'line_join', 'opacity', 'pointer_events', 'radius', 'stroke', 'weight'], radius=9748, weight=1), Circle(color='#F00', fill_color='#c7ff30', fill_opacity=0.4, location=[45.81669998168945, -120.81670379638672], opacity=0.8, options=['class_name', 'clickable', 'color', 'dash_array', 'fill', 'fill_color', 'fill_opacity', 'line_cap', 'line_join', 'opacity', 'pointer_events', 'radius', 'stroke', 'weight'], radius=5878, weight=1), Circle(color='#F00', fill_color='#0068ff', fill_opacity=0.4, location=[47.29999923706055, -122.86669921875], opacity=0.8, options=['class_name', 'clickable', 'color', 'dash_array', 'fill', 'fill_color', 'fill_opacity', 'line_cap', 'line_join', 'opacity', 'pointer_events', 'radius', 'stroke', 'weight'], radius=11192, weight=1), Circle(color='#F00', fill_color='#0000e8', fill_opacity=0.4, location=[46.80080032348633, -124.0864028930664], opacity=0.8, options=['class_name', 'clickable', 'color', 'dash_array', 'fill', 'fill_color', 'fill_opacity', 'line_cap', 'line_join', 'opacity', 'pointer_events', 'radius', 'stroke', 'weight'], radius=9448, weight=1), Circle(color='#F00', fill_color='#005cff', fill_opacity=0.4, location=[46.38719940185547, -123.560302734375], opacity=0.8, options=['class_name', 'clickable', 'color', 'dash_array', 'fill', 'fill_color', 'fill_opacity', 'line_cap', 'line_join', 'opacity', 'pointer_events', 'radius', 'stroke', 'weight'], radius=8569, weight=1), Circle(color='#F00', fill_color='#5dff9a', fill_opacity=0.4, location=[47.13330078125, -121.63330078125], opacity=0.8, options=['class_name', 'clickable', 'color', 'dash_array', 'fill', 'fill_color', 'fill_opacity', 'line_cap', 'line_join', 'opacity', 'pointer_events', 'radius', 'stroke', 'weight'], radius=7776, weight=1), Circle(color='#F00', fill_color='#26ffd1', fill_opacity=0.4, location=[47.733299255371094, -121.41670227050781], opacity=0.8, options=['class_name', 'clickable', 'color', 'dash_array', 'fill', 'fill_color', 'fill_opacity', 'line_cap', 'line_join', 'opacity', 'pointer_events', 'radius', 'stroke', 'weight'], radius=4647, weight=1), Circle(color='#F00', fill_color='#d60000', fill_opacity=0.4, location=[47.483299255371094, -118.25], opacity=0.8, options=['class_name', 'clickable', 'color', 'dash_array', 'fill', 'fill_color', 'fill_opacity', 'line_cap', 'line_join', 'opacity', 'pointer_events', 'radius', 'stroke', 'weight'], radius=3394, weight=1), Circle(color='#F00', fill_color='#ff9c00', fill_opacity=0.4, location=[47.43330001831055, -118.25], opacity=0.8, options=['class_name', 'clickable', 'color', 'dash_array', 'fill', 'fill_color', 'fill_opacity', 'line_cap', 'line_join', 'opacity', 'pointer_events', 'radius', 'stroke', 'weight'], radius=2939, weight=1), Circle(color='#F00', fill_color='#ff5500', fill_opacity=0.4, location=[47.4827995300293, -118.25189971923828], opacity=0.8, options=['class_name', 'clickable', 'color', 'dash_array', 'fill', 'fill_color', 'fill_opacity', 'line_cap', 'line_join', 'opacity', 'pointer_events', 'radius', 'stroke', 'weight'], radius=8653, weight=1), Circle(color='#F00', fill_color='#ff4300', fill_opacity=0.4, location=[47.68560028076172, -119.11109924316406], opacity=0.8, options=['class_name', 'clickable', 'color', 'dash_array', 'fill', 'fill_color', 'fill_opacity', 'line_cap', 'line_join', 'opacity', 'pointer_events', 'radius', 'stroke', 'weight'], radius=10529, weight=1), Circle(color='#F00', fill_color='#ff9f00', fill_opacity=0.4, location=[46.72249984741211, -118.65249633789062], opacity=0.8, options=['class_name', 'clickable', 'color', 'dash_array', 'fill', 'fill_color', 'fill_opacity', 'line_cap', 'line_join', 'opacity', 'pointer_events', 'radius', 'stroke', 'weight'], radius=11939, weight=1), Circle(color='#F00', fill_color='#0084ff', fill_opacity=0.4, location=[47.86109924316406, -123.93190002441406], opacity=0.8, options=['class_name', 'clickable', 'color', 'dash_array', 'fill', 'fill_color', 'fill_opacity', 'line_cap', 'line_join', 'opacity', 'pointer_events', 'radius', 'stroke', 'weight'], radius=3600, weight=1), Circle(color='#F00', fill_color='#ff3800', fill_opacity=0.4, location=[48.20000076293945, -120.7833023071289], opacity=0.8, options=['class_name', 'clickable', 'color', 'dash_array', 'fill', 'fill_color', 'fill_opacity', 'line_cap', 'line_join', 'opacity', 'pointer_events', 'radius', 'stroke', 'weight'], radius=4800, weight=1), Circle(color='#F00', fill_color='#ff1300', fill_opacity=0.4, location=[48.19889831542969, -120.77359771728516], opacity=0.8, options=['class_name', 'clickable', 'color', 'dash_array', 'fill', 'fill_color', 'fill_opacity', 'line_cap', 'line_join', 'opacity', 'pointer_events', 'radius', 'stroke', 'weight'], radius=8653, weight=1), Circle(color='#F00', fill_color='#0070ff', fill_opacity=0.4, location=[47.23360061645508, -123.98970031738281], opacity=0.8, options=['class_name', 'clickable', 'color', 'dash_array', 'fill', 'fill_color', 'fill_opacity', 'line_cap', 'line_join', 'opacity', 'pointer_events', 'radius', 'stroke', 'weight'], radius=6235, weight=1), Circle(color='#F00', fill_color='#90ff66', fill_opacity=0.4, location=[46.24470138549805, -118.87860107421875], opacity=0.8, options=['class_name', 'clickable', 'color', 'dash_array', 'fill', 'fill_color', 'fill_opacity', 'line_cap', 'line_join', 'opacity', 'pointer_events', 'radius', 'stroke', 'weight'], radius=8979, weight=1), Circle(color='#F00', fill_color='#ff4a00', fill_opacity=0.4, location=[48.31669998168945, -118.2166976928711], opacity=0.8, options=['class_name', 'clickable', 'color', 'dash_array', 'fill', 'fill_color', 'fill_opacity', 'line_cap', 'line_join', 'opacity', 'pointer_events', 'radius', 'stroke', 'weight'], radius=6000, weight=1), Circle(color='#F00', fill_color='#43ffb4', fill_opacity=0.4, location=[45.71670150756836, -120.69999694824219], opacity=0.8, options=['class_name', 'clickable', 'color', 'dash_array', 'fill', 'fill_color', 'fill_opacity', 'line_cap', 'line_join', 'opacity', 'pointer_events', 'radius', 'stroke', 'weight'], radius=4647, weight=1), Circle(color='#F00', fill_color='#0084ff', fill_opacity=0.4, location=[46.142799377441406, -122.91580200195312], opacity=0.8, options=['class_name', 'clickable', 'color', 'dash_array', 'fill', 'fill_color', 'fill_opacity', 'line_cap', 'line_join', 'opacity', 'pointer_events', 'radius', 'stroke', 'weight'], radius=2939, weight=1), Circle(color='#F00', fill_color='#b4ff43', fill_opacity=0.4, location=[46.21110153198242, -119.1010971069336], opacity=0.8, options=['class_name', 'clickable', 'color', 'dash_array', 'fill', 'fill_color', 'fill_opacity', 'line_cap', 'line_join', 'opacity', 'pointer_events', 'radius', 'stroke', 'weight'], radius=12528, weight=1), Circle(color='#F00', fill_color='#ff8d00', fill_opacity=0.4, location=[46.13330078125, -119.30000305175781], opacity=0.8, options=['class_name', 'clickable', 'color', 'dash_array', 'fill', 'fill_color', 'fill_opacity', 'line_cap', 'line_join', 'opacity', 'pointer_events', 'radius', 'stroke', 'weight'], radius=6000, weight=1), Circle(color='#F00', fill_color='#007cff', fill_opacity=0.4, location=[47.417198181152344, -122.24330139160156], opacity=0.8, options=['class_name', 'clickable', 'color', 'dash_array', 'fill', 'fill_color', 'fill_opacity', 'line_cap', 'line_join', 'opacity', 'pointer_events', 'radius', 'stroke', 'weight'], radius=12119, weight=1), Circle(color='#F00', fill_color='#0038ff', fill_opacity=0.4, location=[47.70000076293945, -122.61669921875], opacity=0.8, options=['class_name', 'clickable', 'color', 'dash_array', 'fill', 'fill_color', 'fill_opacity', 'line_cap', 'line_join', 'opacity', 'pointer_events', 'radius', 'stroke', 'weight'], radius=6788, weight=1), Circle(color='#F00', fill_color='#00a0ff', fill_opacity=0.4, location=[46.36669921875, -122.61669921875], opacity=0.8, options=['class_name', 'clickable', 'color', 'dash_array', 'fill', 'fill_color', 'fill_opacity', 'line_cap', 'line_join', 'opacity', 'pointer_events', 'radius', 'stroke', 'weight'], radius=7589, weight=1), Circle(color='#F00', fill_color='#00d8ff', fill_opacity=0.4, location=[46.5, -122.18329620361328], opacity=0.8, options=['class_name', 'clickable', 'color', 'dash_array', 'fill', 'fill_color', 'fill_opacity', 'line_cap', 'line_join', 'opacity', 'pointer_events', 'radius', 'stroke', 'weight'], radius=7868, weight=1), Circle(color='#F00', fill_color='#ffd700', fill_opacity=0.4, location=[46.81669998168945, -117.88310241699219], opacity=0.8, options=['class_name', 'clickable', 'color', 'dash_array', 'fill', 'fill_color', 'fill_opacity', 'line_cap', 'line_join', 'opacity', 'pointer_events', 'radius', 'stroke', 'weight'], radius=12354, weight=1), Circle(color='#F00', fill_color='#00d0ff', fill_opacity=0.4, location=[46.83330154418945, -122.31670379638672], opacity=0.8, options=['class_name', 'clickable', 'color', 'dash_array', 'fill', 'fill_color', 'fill_opacity', 'line_cap', 'line_join', 'opacity', 'pointer_events', 'radius', 'stroke', 'weight'], radius=6572, weight=1), Circle(color='#F00', fill_color='#ffb900', fill_opacity=0.4, location=[47.25, -121.06670379638672], opacity=0.8, options=['class_name', 'clickable', 'color', 'dash_array', 'fill', 'fill_color', 'fill_opacity', 'line_cap', 'line_join', 'opacity', 'pointer_events', 'radius', 'stroke', 'weight'], radius=9674, weight=1), Circle(color='#F00', fill_color='#ffb600', fill_opacity=0.4, location=[47.266700744628906, -121.19999694824219], opacity=0.8, options=['class_name', 'clickable', 'color', 'dash_array', 'fill', 'fill_color', 'fill_opacity', 'line_cap', 'line_join', 'opacity', 'pointer_events', 'radius', 'stroke', 'weight'], radius=10039, weight=1), Circle(color='#F00', fill_color='#ffae00', fill_opacity=0.4, location=[47.31669998168945, -121.33329772949219], opacity=0.8, options=['class_name', 'clickable', 'color', 'dash_array', 'fill', 'fill_color', 'fill_opacity', 'line_cap', 'line_join', 'opacity', 'pointer_events', 'radius', 'stroke', 'weight'], radius=9674, weight=1), Circle(color='#F00', fill_color='#ff6000', fill_opacity=0.4, location=[47.83330154418945, -120.0333023071289], opacity=0.8, options=['class_name', 'clickable', 'color', 'dash_array', 'fill', 'fill_color', 'fill_opacity', 'line_cap', 'line_join', 'opacity', 'pointer_events', 'radius', 'stroke', 'weight'], radius=9059, weight=1), Circle(color='#F00', fill_color='#beff39', fill_opacity=0.4, location=[47.837501525878906, -120.79779815673828], opacity=0.8, options=['class_name', 'clickable', 'color', 'dash_array', 'fill', 'fill_color', 'fill_opacity', 'line_cap', 'line_join', 'opacity', 'pointer_events', 'radius', 'stroke', 'weight'], radius=4156, weight=1), Circle(color='#F00', fill_color='#00a0ff', fill_opacity=0.4, location=[47.37670135498047, -121.9614028930664], opacity=0.8, options=['class_name', 'clickable', 'color', 'dash_array', 'fill', 'fill_color', 'fill_opacity', 'line_cap', 'line_join', 'opacity', 'pointer_events', 'radius', 'stroke', 'weight'], radius=11320, weight=1), Circle(color='#F00', fill_color='#cd0000', fill_opacity=0.4, location=[49.0, -118.2332992553711], opacity=0.8, options=['class_name', 'clickable', 'color', 'dash_array', 'fill', 'fill_color', 'fill_opacity', 'line_cap', 'line_join', 'opacity', 'pointer_events', 'radius', 'stroke', 'weight'], radius=10039, weight=1), Circle(color='#F00', fill_color='#ff5500', fill_opacity=0.4, location=[47.55860137939453, -120.67500305175781], opacity=0.8, options=['class_name', 'clickable', 'color', 'dash_array', 'fill', 'fill_color', 'fill_opacity', 'line_cap', 'line_join', 'opacity', 'pointer_events', 'radius', 'stroke', 'weight'], radius=11384, weight=1), Circle(color='#F00', fill_color='#960000', fill_opacity=0.4, location=[48.71670150756836, -119.61669921875], opacity=0.8, options=['class_name', 'clickable', 'color', 'dash_array', 'fill', 'fill_color', 'fill_opacity', 'line_cap', 'line_join', 'opacity', 'pointer_events', 'radius', 'stroke', 'weight'], radius=2683, weight=1), Circle(color='#F00', fill_color='#f60b00', fill_opacity=0.4, location=[48.71670150756836, -119.61669921875], opacity=0.8, options=['class_name', 'clickable', 'color', 'dash_array', 'fill', 'fill_color', 'fill_opacity', 'line_cap', 'line_join', 'opacity', 'pointer_events', 'radius', 'stroke', 'weight'], radius=3174, weight=1), Circle(color='#F00', fill_color='#ffd300', fill_opacity=0.4, location=[47.002201080322266, -118.56580352783203], opacity=0.8, options=['class_name', 'clickable', 'color', 'dash_array', 'fill', 'fill_color', 'fill_opacity', 'line_cap', 'line_join', 'opacity', 'pointer_events', 'radius', 'stroke', 'weight'], radius=10665, weight=1), Circle(color='#F00', fill_color='#7dff7a', fill_opacity=0.4, location=[46.58330154418945, -118.0333023071289], opacity=0.8, options=['class_name', 'clickable', 'color', 'dash_array', 'fill', 'fill_color', 'fill_opacity', 'line_cap', 'line_join', 'opacity', 'pointer_events', 'radius', 'stroke', 'weight'], radius=4947, weight=1), Circle(color='#F00', fill_color='#0000ff', fill_opacity=0.4, location=[46.36750030517578, -124.03780364990234], opacity=0.8, options=['class_name', 'clickable', 'color', 'dash_array', 'fill', 'fill_color', 'fill_opacity', 'line_cap', 'line_join', 'opacity', 'pointer_events', 'radius', 'stroke', 'weight'], radius=8138, weight=1), Circle(color='#F00', fill_color='#000080', fill_opacity=0.4, location=[46.38330078125, -124.0333023071289], opacity=0.8, options=['class_name', 'clickable', 'color', 'dash_array', 'fill', 'fill_color', 'fill_opacity', 'line_cap', 'line_join', 'opacity', 'pointer_events', 'radius', 'stroke', 'weight'], radius=4947, weight=1), Circle(color='#F00', fill_color='#7dff7a', fill_opacity=0.4, location=[46.74919891357422, -121.81199645996094], opacity=0.8, options=['class_name', 'clickable', 'color', 'dash_array', 'fill', 'fill_color', 'fill_opacity', 'line_cap', 'line_join', 'opacity', 'pointer_events', 'radius', 'stroke', 'weight'], radius=7200, weight=1), Circle(color='#F00', fill_color='#0044ff', fill_opacity=0.4, location=[46.15060043334961, -122.91639709472656], opacity=0.8, options=['class_name', 'clickable', 'color', 'dash_array', 'fill', 'fill_color', 'fill_opacity', 'line_cap', 'line_join', 'opacity', 'pointer_events', 'radius', 'stroke', 'weight'], radius=11256, weight=1), Circle(color='#F00', fill_color='#46ffb1', fill_opacity=0.4, location=[46.650001525878906, -117.43329620361328], opacity=0.8, options=['class_name', 'clickable', 'color', 'dash_array', 'fill', 'fill_color', 'fill_opacity', 'line_cap', 'line_join', 'opacity', 'pointer_events', 'radius', 'stroke', 'weight'], radius=3979, weight=1), Circle(color='#F00', fill_color='#7dff7a', fill_opacity=0.4, location=[46.56420135498047, -118.53970336914062], opacity=0.8, options=['class_name', 'clickable', 'color', 'dash_array', 'fill', 'fill_color', 'fill_opacity', 'line_cap', 'line_join', 'opacity', 'pointer_events', 'radius', 'stroke', 'weight'], radius=5499, weight=1), Circle(color='#F00', fill_color='#66ff90', fill_opacity=0.4, location=[45.83330154418945, -121.25], opacity=0.8, options=['class_name', 'clickable', 'color', 'dash_array', 'fill', 'fill_color', 'fill_opacity', 'line_cap', 'line_join', 'opacity', 'pointer_events', 'radius', 'stroke', 'weight'], radius=3600, weight=1), Circle(color='#F00', fill_color='#ff1e00', fill_opacity=0.4, location=[48.28329849243164, -119.7166976928711], opacity=0.8, options=['class_name', 'clickable', 'color', 'dash_array', 'fill', 'fill_color', 'fill_opacity', 'line_cap', 'line_join', 'opacity', 'pointer_events', 'radius', 'stroke', 'weight'], radius=3394, weight=1), Circle(color='#F00', fill_color='#ff7300', fill_opacity=0.4, location=[47.81669998168945, -119.63330078125], opacity=0.8, options=['class_name', 'clickable', 'color', 'dash_array', 'fill', 'fill_color', 'fill_opacity', 'line_cap', 'line_join', 'opacity', 'pointer_events', 'radius', 'stroke', 'weight'], radius=3794, weight=1), Circle(color='#F00', fill_color='#0080ff', fill_opacity=0.4, location=[48.83330154418945, -122.5999984741211], opacity=0.8, options=['class_name', 'clickable', 'color', 'dash_array', 'fill', 'fill_color', 'fill_opacity', 'line_cap', 'line_join', 'opacity', 'pointer_events', 'radius', 'stroke', 'weight'], radius=7776, weight=1), Circle(color='#F00', fill_color='#0094ff', fill_opacity=0.4, location=[47.145599365234375, -123.40059661865234], opacity=0.8, options=['class_name', 'clickable', 'color', 'dash_array', 'fill', 'fill_color', 'fill_opacity', 'line_cap', 'line_join', 'opacity', 'pointer_events', 'radius', 'stroke', 'weight'], radius=1697, weight=1), Circle(color='#F00', fill_color='#06ecf1', fill_opacity=0.4, location=[46.504398345947266, -122.59390258789062], opacity=0.8, options=['class_name', 'clickable', 'color', 'dash_array', 'fill', 'fill_color', 'fill_opacity', 'line_cap', 'line_join', 'opacity', 'pointer_events', 'radius', 'stroke', 'weight'], radius=2400, weight=1), Circle(color='#F00', fill_color='#920000', fill_opacity=0.4, location=[48.593299865722656, -120.4052963256836], opacity=0.8, options=['class_name', 'clickable', 'color', 'dash_array', 'fill', 'fill_color', 'fill_opacity', 'line_cap', 'line_join', 'opacity', 'pointer_events', 'radius', 'stroke', 'weight'], radius=8400, weight=1), Circle(color='#F00', fill_color='#00a4ff', fill_opacity=0.4, location=[47.135799407958984, -122.25579833984375], opacity=0.8, options=['class_name', 'clickable', 'color', 'dash_array', 'fill', 'fill_color', 'fill_opacity', 'line_cap', 'line_join', 'opacity', 'pointer_events', 'radius', 'stroke', 'weight'], radius=10182, weight=1), Circle(color='#F00', fill_color='#7aff7d', fill_opacity=0.4, location=[45.94060134887695, -119.29779815673828], opacity=0.8, options=['class_name', 'clickable', 'color', 'dash_array', 'fill', 'fill_color', 'fill_opacity', 'line_cap', 'line_join', 'opacity', 'pointer_events', 'radius', 'stroke', 'weight'], radius=8818, weight=1), Circle(color='#F00', fill_color='#00a4ff', fill_opacity=0.4, location=[45.9547004699707, -122.56390380859375], opacity=0.8, options=['class_name', 'clickable', 'color', 'dash_array', 'fill', 'fill_color', 'fill_opacity', 'line_cap', 'line_join', 'opacity', 'pointer_events', 'radius', 'stroke', 'weight'], radius=2939, weight=1), Circle(color='#F00', fill_color='#ff3800', fill_opacity=0.4, location=[48.86669921875, -117.36669921875], opacity=0.8, options=['class_name', 'clickable', 'color', 'dash_array', 'fill', 'fill_color', 'fill_opacity', 'line_cap', 'line_join', 'opacity', 'pointer_events', 'radius', 'stroke', 'weight'], radius=7589, weight=1), Circle(color='#F00', fill_color='#ff1600', fill_opacity=0.4, location=[48.10749816894531, -120.00779724121094], opacity=0.8, options=['class_name', 'clickable', 'color', 'dash_array', 'fill', 'fill_color', 'fill_opacity', 'line_cap', 'line_join', 'opacity', 'pointer_events', 'radius', 'stroke', 'weight'], radius=7868, weight=1), Circle(color='#F00', fill_color='#c40000', fill_opacity=0.4, location=[48.13330078125, -120.0167007446289], opacity=0.8, options=['class_name', 'clickable', 'color', 'dash_array', 'fill', 'fill_color', 'fill_opacity', 'line_cap', 'line_join', 'opacity', 'pointer_events', 'radius', 'stroke', 'weight'], radius=4489, weight=1), Circle(color='#F00', fill_color='#0000a8', fill_opacity=0.4, location=[47.21670150756836, -124.19999694824219], opacity=0.8, options=['class_name', 'clickable', 'color', 'dash_array', 'fill', 'fill_color', 'fill_opacity', 'line_cap', 'line_join', 'opacity', 'pointer_events', 'radius', 'stroke', 'weight'], radius=2683, weight=1), Circle(color='#F00', fill_color='#0094ff', fill_opacity=0.4, location=[47.845298767089844, -121.99440002441406], opacity=0.8, options=['class_name', 'clickable', 'color', 'dash_array', 'fill', 'fill_color', 'fill_opacity', 'line_cap', 'line_join', 'opacity', 'pointer_events', 'radius', 'stroke', 'weight'], radius=10998, weight=1), Circle(color='#F00', fill_color='#ff9800', fill_opacity=0.4, location=[47.099998474121094, -119.25], opacity=0.8, options=['class_name', 'clickable', 'color', 'dash_array', 'fill', 'fill_color', 'fill_opacity', 'line_cap', 'line_join', 'opacity', 'pointer_events', 'radius', 'stroke', 'weight'], radius=3600, weight=1), Circle(color='#F00', fill_color='#ff5d00', fill_opacity=0.4, location=[47.11669921875, -119.19999694824219], opacity=0.8, options=['class_name', 'clickable', 'color', 'dash_array', 'fill', 'fill_color', 'fill_opacity', 'line_cap', 'line_join', 'opacity', 'pointer_events', 'radius', 'stroke', 'weight'], radius=6997, weight=1), Circle(color='#F00', fill_color='#d4ff23', fill_opacity=0.4, location=[45.999698638916016, -121.54029846191406], opacity=0.8, options=['class_name', 'clickable', 'color', 'dash_array', 'fill', 'fill_color', 'fill_opacity', 'line_cap', 'line_join', 'opacity', 'pointer_events', 'radius', 'stroke', 'weight'], radius=11384, weight=1), Circle(color='#F00', fill_color='#e7ff0f', fill_opacity=0.4, location=[48.86669921875, -121.66670227050781], opacity=0.8, options=['class_name', 'clickable', 'color', 'dash_array', 'fill', 'fill_color', 'fill_opacity', 'line_cap', 'line_join', 'opacity', 'pointer_events', 'radius', 'stroke', 'weight'], radius=5754, weight=1), Circle(color='#F00', fill_color='#09f0ee', fill_opacity=0.4, location=[48.06669998168945, -123.41670227050781], opacity=0.8, options=['class_name', 'clickable', 'color', 'dash_array', 'fill', 'fill_color', 'fill_opacity', 'line_cap', 'line_join', 'opacity', 'pointer_events', 'radius', 'stroke', 'weight'], radius=2683, weight=1), Circle(color='#F00', fill_color='#ffb200', fill_opacity=0.4, location=[47.91669845581055, -117.13330078125], opacity=0.8, options=['class_name', 'clickable', 'color', 'dash_array', 'fill', 'fill_color', 'fill_opacity', 'line_cap', 'line_join', 'opacity', 'pointer_events', 'radius', 'stroke', 'weight'], radius=4326, weight=1), Circle(color='#F00', fill_color='#960000', fill_opacity=0.4, location=[47.91669845581055, -117.11669921875], opacity=0.8, options=['class_name', 'clickable', 'color', 'dash_array', 'fill', 'fill_color', 'fill_opacity', 'line_cap', 'line_join', 'opacity', 'pointer_events', 'radius', 'stroke', 'weight'], radius=5366, weight=1), Circle(color='#F00', fill_color='#007cff', fill_opacity=0.4, location=[48.44029998779297, -122.38670349121094], opacity=0.8, options=['class_name', 'clickable', 'color', 'dash_array', 'fill', 'fill_color', 'fill_opacity', 'line_cap', 'line_join', 'opacity', 'pointer_events', 'radius', 'stroke', 'weight'], radius=6349, weight=1), Circle(color='#F00', fill_color='#ff8600', fill_opacity=0.4, location=[46.50529861450195, -120.16780090332031], opacity=0.8, options=['class_name', 'clickable', 'color', 'dash_array', 'fill', 'fill_color', 'fill_opacity', 'line_cap', 'line_join', 'opacity', 'pointer_events', 'radius', 'stroke', 'weight'], radius=9674, weight=1), Circle(color='#F00', fill_color='#00c4ff', fill_opacity=0.4, location=[47.14139938354492, -121.93560028076172], opacity=0.8, options=['class_name', 'clickable', 'color', 'dash_array', 'fill', 'fill_color', 'fill_opacity', 'line_cap', 'line_join', 'opacity', 'pointer_events', 'radius', 'stroke', 'weight'], radius=10392, weight=1), Circle(color='#F00', fill_color='#40ffb7', fill_opacity=0.4, location=[46.372501373291016, -123.75309753417969], opacity=0.8, options=['class_name', 'clickable', 'color', 'dash_array', 'fill', 'fill_color', 'fill_opacity', 'line_cap', 'line_join', 'opacity', 'pointer_events', 'radius', 'stroke', 'weight'], radius=2683, weight=1), Circle(color='#F00', fill_color='#ff5200', fill_opacity=0.4, location=[48.13330078125, -118.9832992553711], opacity=0.8, options=['class_name', 'clickable', 'color', 'dash_array', 'fill', 'fill_color', 'fill_opacity', 'line_cap', 'line_join', 'opacity', 'pointer_events', 'radius', 'stroke', 'weight'], radius=10529, weight=1), Circle(color='#F00', fill_color='#09f0ee', fill_opacity=0.4, location=[48.67580032348633, -121.24189758300781], opacity=0.8, options=['class_name', 'clickable', 'color', 'dash_array', 'fill', 'fill_color', 'fill_opacity', 'line_cap', 'line_join', 'opacity', 'pointer_events', 'radius', 'stroke', 'weight'], radius=8899, weight=1), Circle(color='#F00', fill_color='#ff4300', fill_opacity=0.4, location=[48.184200286865234, -117.04750061035156], opacity=0.8, options=['class_name', 'clickable', 'color', 'dash_array', 'fill', 'fill_color', 'fill_opacity', 'line_cap', 'line_join', 'opacity', 'pointer_events', 'radius', 'stroke', 'weight'], radius=12000, weight=1), Circle(color='#F00', fill_color='#ff4a00', fill_opacity=0.4, location=[48.87419891357422, -117.86669921875], opacity=0.8, options=['class_name', 'clickable', 'color', 'dash_array', 'fill', 'fill_color', 'fill_opacity', 'line_cap', 'line_join', 'opacity', 'pointer_events', 'radius', 'stroke', 'weight'], radius=12119, weight=1), Circle(color='#F00', fill_color='#0074ff', fill_opacity=0.4, location=[46.83330154418945, -123.2332992553711], opacity=0.8, options=['class_name', 'clickable', 'color', 'dash_array', 'fill', 'fill_color', 'fill_opacity', 'line_cap', 'line_join', 'opacity', 'pointer_events', 'radius', 'stroke', 'weight'], radius=10111, weight=1), Circle(color='#F00', fill_color='#ff7a00', fill_opacity=0.4, location=[47.332801818847656, -118.69439697265625], opacity=0.8, options=['class_name', 'clickable', 'color', 'dash_array', 'fill', 'fill_color', 'fill_opacity', 'line_cap', 'line_join', 'opacity', 'pointer_events', 'radius', 'stroke', 'weight'], radius=12470, weight=1), Circle(color='#F00', fill_color='#ff1e00', fill_opacity=0.4, location=[48.36669921875, -119.58329772949219], opacity=0.8, options=['class_name', 'clickable', 'color', 'dash_array', 'fill', 'fill_color', 'fill_opacity', 'line_cap', 'line_join', 'opacity', 'pointer_events', 'radius', 'stroke', 'weight'], radius=6000, weight=1), Circle(color='#F00', fill_color='#0014ff', fill_opacity=0.4, location=[48.611698150634766, -122.806396484375], opacity=0.8, options=['class_name', 'clickable', 'color', 'dash_array', 'fill', 'fill_color', 'fill_opacity', 'line_cap', 'line_join', 'opacity', 'pointer_events', 'radius', 'stroke', 'weight'], radius=12354, weight=1), Circle(color='#F00', fill_color='#00a0ff', fill_opacity=0.4, location=[47.06669998168945, -122.88330078125], opacity=0.8, options=['class_name', 'clickable', 'color', 'dash_array', 'fill', 'fill_color', 'fill_opacity', 'line_cap', 'line_join', 'opacity', 'pointer_events', 'radius', 'stroke', 'weight'], radius=8653, weight=1), Circle(color='#F00', fill_color='#ff9100', fill_opacity=0.4, location=[48.93330001831055, -119.43329620361328], opacity=0.8, options=['class_name', 'clickable', 'color', 'dash_array', 'fill', 'fill_color', 'fill_opacity', 'line_cap', 'line_join', 'opacity', 'pointer_events', 'radius', 'stroke', 'weight'], radius=3979, weight=1), Circle(color='#F00', fill_color='#ff9100', fill_opacity=0.4, location=[48.96670150756836, -119.5], opacity=0.8, options=['class_name', 'clickable', 'color', 'dash_array', 'fill', 'fill_color', 'fill_opacity', 'line_cap', 'line_join', 'opacity', 'pointer_events', 'radius', 'stroke', 'weight'], radius=8485, weight=1), Circle(color='#F00', fill_color='#ffc400', fill_opacity=0.4, location=[46.78860092163086, -119.04609680175781], opacity=0.8, options=['class_name', 'clickable', 'color', 'dash_array', 'fill', 'fill_color', 'fill_opacity', 'line_cap', 'line_join', 'opacity', 'pointer_events', 'radius', 'stroke', 'weight'], radius=8569, weight=1), Circle(color='#F00', fill_color='#30ffc7', fill_opacity=0.4, location=[46.60919952392578, -121.67440032958984], opacity=0.8, options=['class_name', 'clickable', 'color', 'dash_array', 'fill', 'fill_color', 'fill_opacity', 'line_cap', 'line_join', 'opacity', 'pointer_events', 'radius', 'stroke', 'weight'], radius=9822, weight=1), Circle(color='#F00', fill_color='#00a4ff', fill_opacity=0.4, location=[47.30580139160156, -121.85140228271484], opacity=0.8, options=['class_name', 'clickable', 'color', 'dash_array', 'fill', 'fill_color', 'fill_opacity', 'line_cap', 'line_join', 'opacity', 'pointer_events', 'radius', 'stroke', 'weight'], radius=11320, weight=1), Circle(color='#F00', fill_color='#e4ff13', fill_opacity=0.4, location=[46.91669845581055, -121.5333023071289], opacity=0.8, options=['class_name', 'clickable', 'color', 'dash_array', 'fill', 'fill_color', 'fill_opacity', 'line_cap', 'line_join', 'opacity', 'pointer_events', 'radius', 'stroke', 'weight'], radius=5878, weight=1), Circle(color='#F00', fill_color='#ff5900', fill_opacity=0.4, location=[47.78499984741211, -120.64559936523438], opacity=0.8, options=['class_name', 'clickable', 'color', 'dash_array', 'fill', 'fill_color', 'fill_opacity', 'line_cap', 'line_join', 'opacity', 'pointer_events', 'radius', 'stroke', 'weight'], radius=10529, weight=1), Circle(color='#F00', fill_color='#a0ff56', fill_opacity=0.4, location=[46.516700744628906, -118.33329772949219], opacity=0.8, options=['class_name', 'clickable', 'color', 'dash_array', 'fill', 'fill_color', 'fill_opacity', 'line_cap', 'line_join', 'opacity', 'pointer_events', 'radius', 'stroke', 'weight'], radius=2939, weight=1), Circle(color='#F00', fill_color='#000080', fill_opacity=0.4, location=[47.29999923706055, -124.2833023071289], opacity=0.8, options=['class_name', 'clickable', 'color', 'dash_array', 'fill', 'fill_color', 'fill_opacity', 'line_cap', 'line_join', 'opacity', 'pointer_events', 'radius', 'stroke', 'weight'], radius=6349, weight=1), Circle(color='#F00', fill_color='#a0ff56', fill_opacity=0.4, location=[46.467201232910156, -117.58830261230469], opacity=0.8, options=['class_name', 'clickable', 'color', 'dash_array', 'fill', 'fill_color', 'fill_opacity', 'line_cap', 'line_join', 'opacity', 'pointer_events', 'radius', 'stroke', 'weight'], radius=11572, weight=1), Circle(color='#F00', fill_color='#0000ff', fill_opacity=0.4, location=[48.11389923095703, -123.43170166015625], opacity=0.8, options=['class_name', 'clickable', 'color', 'dash_array', 'fill', 'fill_color', 'fill_opacity', 'line_cap', 'line_join', 'opacity', 'pointer_events', 'radius', 'stroke', 'weight'], radius=10039, weight=1), Circle(color='#F00', fill_color='#0010ff', fill_opacity=0.4, location=[48.1161003112793, -122.75859832763672], opacity=0.8, options=['class_name', 'clickable', 'color', 'dash_array', 'fill', 'fill_color', 'fill_opacity', 'line_cap', 'line_join', 'opacity', 'pointer_events', 'radius', 'stroke', 'weight'], radius=10932, weight=1), Circle(color='#F00', fill_color='#d1ff26', fill_opacity=0.4, location=[46.646400451660156, -119.90640258789062], opacity=0.8, options=['class_name', 'clickable', 'color', 'dash_array', 'fill', 'fill_color', 'fill_opacity', 'line_cap', 'line_join', 'opacity', 'pointer_events', 'radius', 'stroke', 'weight'], radius=9138, weight=1), Circle(color='#F00', fill_color='#adff49', fill_opacity=0.4, location=[46.20000076293945, -119.7667007446289], opacity=0.8, options=['class_name', 'clickable', 'color', 'dash_array', 'fill', 'fill_color', 'fill_opacity', 'line_cap', 'line_join', 'opacity', 'pointer_events', 'radius', 'stroke', 'weight'], radius=8569, weight=1), Circle(color='#F00', fill_color='#ebff0c', fill_opacity=0.4, location=[46.20140075683594, -119.75810241699219], opacity=0.8, options=['class_name', 'clickable', 'color', 'dash_array', 'fill', 'fill_color', 'fill_opacity', 'line_cap', 'line_join', 'opacity', 'pointer_events', 'radius', 'stroke', 'weight'], radius=10392, weight=1), Circle(color='#F00', fill_color='#dbff1c', fill_opacity=0.4, location=[46.733299255371094, -117.16670227050781], opacity=0.8, options=['class_name', 'clickable', 'color', 'dash_array', 'fill', 'fill_color', 'fill_opacity', 'line_cap', 'line_join', 'opacity', 'pointer_events', 'radius', 'stroke', 'weight'], radius=6893, weight=1), Circle(color='#F00', fill_color='#f4f802', fill_opacity=0.4, location=[46.76029968261719, -117.18609619140625], opacity=0.8, options=['class_name', 'clickable', 'color', 'dash_array', 'fill', 'fill_color', 'fill_opacity', 'line_cap', 'line_join', 'opacity', 'pointer_events', 'radius', 'stroke', 'weight'], radius=9295, weight=1), Circle(color='#F00', fill_color='#0078ff', fill_opacity=0.4, location=[47.20000076293945, -122.33329772949219], opacity=0.8, options=['class_name', 'clickable', 'color', 'dash_array', 'fill', 'fill_color', 'fill_opacity', 'line_cap', 'line_join', 'opacity', 'pointer_events', 'radius', 'stroke', 'weight'], radius=10866, weight=1), Circle(color='#F00', fill_color='#00b0ff', fill_opacity=0.4, location=[47.809200286865234, -122.9135971069336], opacity=0.8, options=['class_name', 'clickable', 'color', 'dash_array', 'fill', 'fill_color', 'fill_opacity', 'line_cap', 'line_join', 'opacity', 'pointer_events', 'radius', 'stroke', 'weight'], radius=11572, weight=1), Circle(color='#F00', fill_color='#0090ff', fill_opacity=0.4, location=[47.474700927734375, -123.84970092773438], opacity=0.8, options=['class_name', 'clickable', 'color', 'dash_array', 'fill', 'fill_color', 'fill_opacity', 'line_cap', 'line_join', 'opacity', 'pointer_events', 'radius', 'stroke', 'weight'], radius=9448, weight=1), Circle(color='#F00', fill_color='#ff9c00', fill_opacity=0.4, location=[47.215599060058594, -119.8478012084961], opacity=0.8, options=['class_name', 'clickable', 'color', 'dash_array', 'fill', 'fill_color', 'fill_opacity', 'line_cap', 'line_join', 'opacity', 'pointer_events', 'radius', 'stroke', 'weight'], radius=9822, weight=1), Circle(color='#F00', fill_color='#29ffce', fill_opacity=0.4, location=[46.993900299072266, -121.9113998413086], opacity=0.8, options=['class_name', 'clickable', 'color', 'dash_array', 'fill', 'fill_color', 'fill_opacity', 'line_cap', 'line_join', 'opacity', 'pointer_events', 'radius', 'stroke', 'weight'], radius=8138, weight=1), Circle(color='#F00', fill_color='#b1ff46', fill_opacity=0.4, location=[46.75, -121.81670379638672], opacity=0.8, options=['class_name', 'clickable', 'color', 'dash_array', 'fill', 'fill_color', 'fill_opacity', 'line_cap', 'line_join', 'opacity', 'pointer_events', 'radius', 'stroke', 'weight'], radius=8569, weight=1), Circle(color='#F00', fill_color='#ceff29', fill_opacity=0.4, location=[46.732200622558594, -121.57279968261719], opacity=0.8, options=['class_name', 'clickable', 'color', 'dash_array', 'fill', 'fill_color', 'fill_opacity', 'line_cap', 'line_join', 'opacity', 'pointer_events', 'radius', 'stroke', 'weight'], radius=4489, weight=1), Circle(color='#F00', fill_color='#e1ff16', fill_opacity=0.4, location=[46.78580093383789, -121.74250030517578], opacity=0.8, options=['class_name', 'clickable', 'color', 'dash_array', 'fill', 'fill_color', 'fill_opacity', 'line_cap', 'line_join', 'opacity', 'pointer_events', 'radius', 'stroke', 'weight'], radius=11879, weight=1), Circle(color='#F00', fill_color='#0080ff', fill_opacity=0.4, location=[46.65330123901367, -123.7300033569336], opacity=0.8, options=['class_name', 'clickable', 'color', 'dash_array', 'fill', 'fill_color', 'fill_opacity', 'line_cap', 'line_join', 'opacity', 'pointer_events', 'radius', 'stroke', 'weight'], radius=6997, weight=1), Circle(color='#F00', fill_color='#c40000', fill_opacity=0.4, location=[48.64690017700195, -118.73139953613281], opacity=0.8, options=['class_name', 'clickable', 'color', 'dash_array', 'fill', 'fill_color', 'fill_opacity', 'line_cap', 'line_join', 'opacity', 'pointer_events', 'radius', 'stroke', 'weight'], radius=12585, weight=1), Circle(color='#F00', fill_color='#0004ff', fill_opacity=0.4, location=[48.43330001831055, -122.83329772949219], opacity=0.8, options=['class_name', 'clickable', 'color', 'dash_array', 'fill', 'fill_color', 'fill_opacity', 'line_cap', 'line_join', 'opacity', 'pointer_events', 'radius', 'stroke', 'weight'], radius=3174, weight=1), Circle(color='#F00', fill_color='#9aff5d', fill_opacity=0.4, location=[46.3119010925293, -119.26329803466797], opacity=0.8, options=['class_name', 'clickable', 'color', 'dash_array', 'fill', 'fill_color', 'fill_opacity', 'line_cap', 'line_join', 'opacity', 'pointer_events', 'radius', 'stroke', 'weight'], radius=9967, weight=1), Circle(color='#F00', fill_color='#ff9800', fill_opacity=0.4, location=[46.650001525878906, -121.13330078125], opacity=0.8, options=['class_name', 'clickable', 'color', 'dash_array', 'fill', 'fill_color', 'fill_opacity', 'line_cap', 'line_join', 'opacity', 'pointer_events', 'radius', 'stroke', 'weight'], radius=9372, weight=1), Circle(color='#F00', fill_color='#ffcc00', fill_opacity=0.4, location=[47.117801666259766, -118.37220001220703], opacity=0.8, options=['class_name', 'clickable', 'color', 'dash_array', 'fill', 'fill_color', 'fill_opacity', 'line_cap', 'line_join', 'opacity', 'pointer_events', 'radius', 'stroke', 'weight'], radius=11879, weight=1), Circle(color='#F00', fill_color='#fbf100', fill_opacity=0.4, location=[47.23249816894531, -117.36250305175781], opacity=0.8, options=['class_name', 'clickable', 'color', 'dash_array', 'fill', 'fill_color', 'fill_opacity', 'line_cap', 'line_join', 'opacity', 'pointer_events', 'radius', 'stroke', 'weight'], radius=12756, weight=1), Circle(color='#F00', fill_color='#5dff9a', fill_opacity=0.4, location=[48.72719955444336, -121.07219696044922], opacity=0.8, options=['class_name', 'clickable', 'color', 'dash_array', 'fill', 'fill_color', 'fill_opacity', 'line_cap', 'line_join', 'opacity', 'pointer_events', 'radius', 'stroke', 'weight'], radius=8818, weight=1), Circle(color='#F00', fill_color='#ffde00', fill_opacity=0.4, location=[46.93330001831055, -119.6500015258789], opacity=0.8, options=['class_name', 'clickable', 'color', 'dash_array', 'fill', 'fill_color', 'fill_opacity', 'line_cap', 'line_join', 'opacity', 'pointer_events', 'radius', 'stroke', 'weight'], radius=2400, weight=1), Circle(color='#F00', fill_color='#ff9f00', fill_opacity=0.4, location=[47.13330078125, -119.05000305175781], opacity=0.8, options=['class_name', 'clickable', 'color', 'dash_array', 'fill', 'fill_color', 'fill_opacity', 'line_cap', 'line_join', 'opacity', 'pointer_events', 'radius', 'stroke', 'weight'], radius=6681, weight=1), Circle(color='#F00', fill_color='#ceff29', fill_opacity=0.4, location=[46.395301818847656, -119.07109832763672], opacity=0.8, options=['class_name', 'clickable', 'color', 'dash_array', 'fill', 'fill_color', 'fill_opacity', 'line_cap', 'line_join', 'opacity', 'pointer_events', 'radius', 'stroke', 'weight'], radius=2683, weight=1), Circle(color='#F00', fill_color='#deff19', fill_opacity=0.4, location=[47.093299865722656, -117.58779907226562], opacity=0.8, options=['class_name', 'clickable', 'color', 'dash_array', 'fill', 'fill_color', 'fill_opacity', 'line_cap', 'line_join', 'opacity', 'pointer_events', 'radius', 'stroke', 'weight'], radius=8485, weight=1), Circle(color='#F00', fill_color='#00a8ff', fill_opacity=0.4, location=[48.06669998168945, -124.11669921875], opacity=0.8, options=['class_name', 'clickable', 'color', 'dash_array', 'fill', 'fill_color', 'fill_opacity', 'line_cap', 'line_join', 'opacity', 'pointer_events', 'radius', 'stroke', 'weight'], radius=9448, weight=1), Circle(color='#F00', fill_color='#e4ff13', fill_opacity=0.4, location=[46.0, -120.6500015258789], opacity=0.8, options=['class_name', 'clickable', 'color', 'dash_array', 'fill', 'fill_color', 'fill_opacity', 'line_cap', 'line_join', 'opacity', 'pointer_events', 'radius', 'stroke', 'weight'], radius=4156, weight=1), Circle(color='#F00', fill_color='#ffde00', fill_opacity=0.4, location=[45.94810104370117, -120.66690063476562], opacity=0.8, options=['class_name', 'clickable', 'color', 'dash_array', 'fill', 'fill_color', 'fill_opacity', 'line_cap', 'line_join', 'opacity', 'pointer_events', 'radius', 'stroke', 'weight'], radius=8049, weight=1), Circle(color='#F00', fill_color='#39ffbe', fill_opacity=0.4, location=[47.70000076293945, -121.1500015258789], opacity=0.8, options=['class_name', 'clickable', 'color', 'dash_array', 'fill', 'fill_color', 'fill_opacity', 'line_cap', 'line_join', 'opacity', 'pointer_events', 'radius', 'stroke', 'weight'], radius=2078, weight=1), Circle(color='#F00', fill_color='#003cff', fill_opacity=0.4, location=[47.733299255371094, -122.33329772949219], opacity=0.8, options=['class_name', 'clickable', 'color', 'dash_array', 'fill', 'fill_color', 'fill_opacity', 'line_cap', 'line_join', 'opacity', 'pointer_events', 'radius', 'stroke', 'weight'], radius=6118, weight=1), Circle(color='#F00', fill_color='#005cff', fill_opacity=0.4, location=[47.70000076293945, -122.31670379638672], opacity=0.8, options=['class_name', 'clickable', 'color', 'dash_array', 'fill', 'fill_color', 'fill_opacity', 'line_cap', 'line_join', 'opacity', 'pointer_events', 'radius', 'stroke', 'weight'], radius=4326, weight=1), Circle(color='#F00', fill_color='#0030ff', fill_opacity=0.4, location=[47.650001525878906, -122.2833023071289], opacity=0.8, options=['class_name', 'clickable', 'color', 'dash_array', 'fill', 'fill_color', 'fill_opacity', 'line_cap', 'line_join', 'opacity', 'pointer_events', 'radius', 'stroke', 'weight'], radius=9217, weight=1), Circle(color='#F00', fill_color='#0084ff', fill_opacity=0.4, location=[48.49580001831055, -122.2354965209961], opacity=0.8, options=['class_name', 'clickable', 'color', 'dash_array', 'fill', 'fill_color', 'fill_opacity', 'line_cap', 'line_join', 'opacity', 'pointer_events', 'radius', 'stroke', 'weight'], radius=11384, weight=1), Circle(color='#F00', fill_color='#ff6400', fill_opacity=0.4, location=[46.67219924926758, -120.49939727783203], opacity=0.8, options=['class_name', 'clickable', 'color', 'dash_array', 'fill', 'fill_color', 'fill_opacity', 'line_cap', 'line_join', 'opacity', 'pointer_events', 'radius', 'stroke', 'weight'], radius=4800, weight=1), Circle(color='#F00', fill_color='#0068ff', fill_opacity=0.4, location=[48.08330154418945, -123.0999984741211], opacity=0.8, options=['class_name', 'clickable', 'color', 'dash_array', 'fill', 'fill_color', 'fill_opacity', 'line_cap', 'line_join', 'opacity', 'pointer_events', 'radius', 'stroke', 'weight'], radius=9674, weight=1), Circle(color='#F00', fill_color='#0094ff', fill_opacity=0.4, location=[48.084999084472656, -123.06390380859375], opacity=0.8, options=['class_name', 'clickable', 'color', 'dash_array', 'fill', 'fill_color', 'fill_opacity', 'line_cap', 'line_join', 'opacity', 'pointer_events', 'radius', 'stroke', 'weight'], radius=6997, weight=1), Circle(color='#F00', fill_color='#0088ff', fill_opacity=0.4, location=[47.20000076293945, -123.0999984741211], opacity=0.8, options=['class_name', 'clickable', 'color', 'dash_array', 'fill', 'fill_color', 'fill_opacity', 'line_cap', 'line_join', 'opacity', 'pointer_events', 'radius', 'stroke', 'weight'], radius=9967, weight=1), Circle(color='#F00', fill_color='#36ffc1', fill_opacity=0.4, location=[48.68330001831055, -121.25], opacity=0.8, options=['class_name', 'clickable', 'color', 'dash_array', 'fill', 'fill_color', 'fill_opacity', 'line_cap', 'line_join', 'opacity', 'pointer_events', 'radius', 'stroke', 'weight'], radius=6997, weight=1), Circle(color='#F00', fill_color='#0098ff', fill_opacity=0.4, location=[45.622798919677734, -122.21749877929688], opacity=0.8, options=['class_name', 'clickable', 'color', 'dash_array', 'fill', 'fill_color', 'fill_opacity', 'line_cap', 'line_join', 'opacity', 'pointer_events', 'radius', 'stroke', 'weight'], radius=8049, weight=1), Circle(color='#F00', fill_color='#c1ff36', fill_opacity=0.4, location=[47.70000076293945, -121.36669921875], opacity=0.8, options=['class_name', 'clickable', 'color', 'dash_array', 'fill', 'fill_color', 'fill_opacity', 'line_cap', 'line_join', 'opacity', 'pointer_events', 'radius', 'stroke', 'weight'], radius=4947, weight=1), Circle(color='#F00', fill_color='#ffd300', fill_opacity=0.4, location=[46.836700439453125, -119.66329956054688], opacity=0.8, options=['class_name', 'clickable', 'color', 'dash_array', 'fill', 'fill_color', 'fill_opacity', 'line_cap', 'line_join', 'opacity', 'pointer_events', 'radius', 'stroke', 'weight'], radius=8899, weight=1), Circle(color='#F00', fill_color='#0088ff', fill_opacity=0.4, location=[47.54140090942383, -121.83609771728516], opacity=0.8, options=['class_name', 'clickable', 'color', 'dash_array', 'fill', 'fill_color', 'fill_opacity', 'line_cap', 'line_join', 'opacity', 'pointer_events', 'radius', 'stroke', 'weight'], radius=11320, weight=1), Circle(color='#F00', fill_color='#f4f802', fill_opacity=0.4, location=[47.42470169067383, -121.41390228271484], opacity=0.8, options=['class_name', 'clickable', 'color', 'dash_array', 'fill', 'fill_color', 'fill_opacity', 'line_cap', 'line_join', 'opacity', 'pointer_events', 'radius', 'stroke', 'weight'], radius=9138, weight=1), Circle(color='#F00', fill_color='#aaff4d', fill_opacity=0.4, location=[45.817501068115234, -121.35310363769531], opacity=0.8, options=['class_name', 'clickable', 'color', 'dash_array', 'fill', 'fill_color', 'fill_opacity', 'line_cap', 'line_join', 'opacity', 'pointer_events', 'radius', 'stroke', 'weight'], radius=2400, weight=1), Circle(color='#F00', fill_color='#00c4ff', fill_opacity=0.4, location=[47.233299255371094, -123.58329772949219], opacity=0.8, options=['class_name', 'clickable', 'color', 'dash_array', 'fill', 'fill_color', 'fill_opacity', 'line_cap', 'line_join', 'opacity', 'pointer_events', 'radius', 'stroke', 'weight'], radius=3600, weight=1), Circle(color='#F00', fill_color='#a0ff56', fill_opacity=0.4, location=[46.266700744628906, -122.1500015258789], opacity=0.8, options=['class_name', 'clickable', 'color', 'dash_array', 'fill', 'fill_color', 'fill_opacity', 'line_cap', 'line_join', 'opacity', 'pointer_events', 'radius', 'stroke', 'weight'], radius=6000, weight=1), Circle(color='#F00', fill_color='#f4f802', fill_opacity=0.4, location=[47.66669845581055, -117.41670227050781], opacity=0.8, options=['class_name', 'clickable', 'color', 'dash_array', 'fill', 'fill_color', 'fill_opacity', 'line_cap', 'line_join', 'opacity', 'pointer_events', 'radius', 'stroke', 'weight'], radius=6681, weight=1), Circle(color='#F00', fill_color='#ffcc00', fill_opacity=0.4, location=[47.68109893798828, -117.62670135498047], opacity=0.8, options=['class_name', 'clickable', 'color', 'dash_array', 'fill', 'fill_color', 'fill_opacity', 'line_cap', 'line_join', 'opacity', 'pointer_events', 'radius', 'stroke', 'weight'], radius=5091, weight=1), Circle(color='#F00', fill_color='#ff8d00', fill_opacity=0.4, location=[47.29999923706055, -117.9832992553711], opacity=0.8, options=['class_name', 'clickable', 'color', 'dash_array', 'fill', 'fill_color', 'fill_opacity', 'line_cap', 'line_join', 'opacity', 'pointer_events', 'radius', 'stroke', 'weight'], radius=8138, weight=1), Circle(color='#F00', fill_color='#007cff', fill_opacity=0.4, location=[47.86640167236328, -121.71749877929688], opacity=0.8, options=['class_name', 'clickable', 'color', 'dash_array', 'fill', 'fill_color', 'fill_opacity', 'line_cap', 'line_join', 'opacity', 'pointer_events', 'radius', 'stroke', 'weight'], radius=11320, weight=1), Circle(color='#F00', fill_color='#ffd300', fill_opacity=0.4, location=[48.350799560546875, -120.72640228271484], opacity=0.8, options=['class_name', 'clickable', 'color', 'dash_array', 'fill', 'fill_color', 'fill_opacity', 'line_cap', 'line_join', 'opacity', 'pointer_events', 'radius', 'stroke', 'weight'], radius=12059, weight=1), Circle(color='#F00', fill_color='#ff9f00', fill_opacity=0.4, location=[47.73720169067383, -121.09140014648438], opacity=0.8, options=['class_name', 'clickable', 'color', 'dash_array', 'fill', 'fill_color', 'fill_opacity', 'line_cap', 'line_join', 'opacity', 'pointer_events', 'radius', 'stroke', 'weight'], radius=8818, weight=1), Circle(color='#F00', fill_color='#800000', fill_opacity=0.4, location=[48.36669921875, -120.33329772949219], opacity=0.8, options=['class_name', 'clickable', 'color', 'dash_array', 'fill', 'fill_color', 'fill_opacity', 'line_cap', 'line_join', 'opacity', 'pointer_events', 'radius', 'stroke', 'weight'], radius=7959, weight=1), Circle(color='#F00', fill_color='#feed00', fill_opacity=0.4, location=[46.32360076904297, -120.01029968261719], opacity=0.8, options=['class_name', 'clickable', 'color', 'dash_array', 'fill', 'fill_color', 'fill_opacity', 'line_cap', 'line_join', 'opacity', 'pointer_events', 'radius', 'stroke', 'weight'], radius=12756, weight=1), Circle(color='#F00', fill_color='#0000ff', fill_opacity=0.4, location=[47.24720001220703, -122.41220092773438], opacity=0.8, options=['class_name', 'clickable', 'color', 'dash_array', 'fill', 'fill_color', 'fill_opacity', 'line_cap', 'line_join', 'opacity', 'pointer_events', 'radius', 'stroke', 'weight'], radius=6788, weight=1), Circle(color='#F00', fill_color='#ffab00', fill_opacity=0.4, location=[46.66669845581055, -121.0], opacity=0.8, options=['class_name', 'clickable', 'color', 'dash_array', 'fill', 'fill_color', 'fill_opacity', 'line_cap', 'line_join', 'opacity', 'pointer_events', 'radius', 'stroke', 'weight'], radius=7493, weight=1), Circle(color='#F00', fill_color='#23ffd4', fill_opacity=0.4, location=[47.70000076293945, -121.69080352783203], opacity=0.8, options=['class_name', 'clickable', 'color', 'dash_array', 'fill', 'fill_color', 'fill_opacity', 'line_cap', 'line_join', 'opacity', 'pointer_events', 'radius', 'stroke', 'weight'], radius=4647, weight=1), Circle(color='#F00', fill_color='#ff4e00', fill_opacity=0.4, location=[48.780601501464844, -119.42420196533203], opacity=0.8, options=['class_name', 'clickable', 'color', 'dash_array', 'fill', 'fill_color', 'fill_opacity', 'line_cap', 'line_join', 'opacity', 'pointer_events', 'radius', 'stroke', 'weight'], radius=5499, weight=1), Circle(color='#F00', fill_color='#bf0000', fill_opacity=0.4, location=[48.66669845581055, -119.66670227050781], opacity=0.8, options=['class_name', 'clickable', 'color', 'dash_array', 'fill', 'fill_color', 'fill_opacity', 'line_cap', 'line_join', 'opacity', 'pointer_events', 'radius', 'stroke', 'weight'], radius=2400, weight=1), Circle(color='#F00', fill_color='#ffd000', fill_opacity=0.4, location=[47.21670150756836, -120.0], opacity=0.8, options=['class_name', 'clickable', 'color', 'dash_array', 'fill', 'fill_color', 'fill_opacity', 'line_cap', 'line_join', 'opacity', 'pointer_events', 'radius', 'stroke', 'weight'], radius=9295, weight=1), Circle(color='#F00', fill_color='#46ffb1', fill_opacity=0.4, location=[48.65250015258789, -121.69309997558594], opacity=0.8, options=['class_name', 'clickable', 'color', 'dash_array', 'fill', 'fill_color', 'fill_opacity', 'line_cap', 'line_join', 'opacity', 'pointer_events', 'radius', 'stroke', 'weight'], radius=8400, weight=1), Circle(color='#F00', fill_color='#87ff70', fill_opacity=0.4, location=[48.66669845581055, -121.7166976928711], opacity=0.8, options=['class_name', 'clickable', 'color', 'dash_array', 'fill', 'fill_color', 'fill_opacity', 'line_cap', 'line_join', 'opacity', 'pointer_events', 'radius', 'stroke', 'weight'], radius=2939, weight=1), Circle(color='#F00', fill_color='#ff4a00', fill_opacity=0.4, location=[48.66669845581055, -119.63330078125], opacity=0.8, options=['class_name', 'clickable', 'color', 'dash_array', 'fill', 'fill_color', 'fill_opacity', 'line_cap', 'line_join', 'opacity', 'pointer_events', 'radius', 'stroke', 'weight'], radius=1697, weight=1), Circle(color='#F00', fill_color='#00a0ff', fill_opacity=0.4, location=[45.677799224853516, -122.6511001586914], opacity=0.8, options=['class_name', 'clickable', 'color', 'dash_array', 'fill', 'fill_color', 'fill_opacity', 'line_cap', 'line_join', 'opacity', 'pointer_events', 'radius', 'stroke', 'weight'], radius=9600, weight=1), Circle(color='#F00', fill_color='#0048ff', fill_opacity=0.4, location=[47.45000076293945, -122.5], opacity=0.8, options=['class_name', 'clickable', 'color', 'dash_array', 'fill', 'fill_color', 'fill_opacity', 'line_cap', 'line_join', 'opacity', 'pointer_events', 'radius', 'stroke', 'weight'], radius=8736, weight=1), Circle(color='#F00', fill_color='#c4ff33', fill_opacity=0.4, location=[46.04999923706055, -118.4000015258789], opacity=0.8, options=['class_name', 'clickable', 'color', 'dash_array', 'fill', 'fill_color', 'fill_opacity', 'line_cap', 'line_join', 'opacity', 'pointer_events', 'radius', 'stroke', 'weight'], radius=6681, weight=1), Circle(color='#F00', fill_color='#53ffa4', fill_opacity=0.4, location=[46.063899993896484, -118.31639862060547], opacity=0.8, options=['class_name', 'clickable', 'color', 'dash_array', 'fill', 'fill_color', 'fill_opacity', 'line_cap', 'line_join', 'opacity', 'pointer_events', 'radius', 'stroke', 'weight'], radius=2939, weight=1), Circle(color='#F00', fill_color='#e4ff13', fill_opacity=0.4, location=[46.435298919677734, -120.42030334472656], opacity=0.8, options=['class_name', 'clickable', 'color', 'dash_array', 'fill', 'fill_color', 'fill_opacity', 'line_cap', 'line_join', 'opacity', 'pointer_events', 'radius', 'stroke', 'weight'], radius=11879, weight=1), Circle(color='#F00', fill_color='#00d0ff', fill_opacity=0.4, location=[45.599998474121094, -122.18329620361328], opacity=0.8, options=['class_name', 'clickable', 'color', 'dash_array', 'fill', 'fill_color', 'fill_opacity', 'line_cap', 'line_join', 'opacity', 'pointer_events', 'radius', 'stroke', 'weight'], radius=4647, weight=1), Circle(color='#F00', fill_color='#ff1e00', fill_opacity=0.4, location=[47.64970016479492, -120.08000183105469], opacity=0.8, options=['class_name', 'clickable', 'color', 'dash_array', 'fill', 'fill_color', 'fill_opacity', 'line_cap', 'line_join', 'opacity', 'pointer_events', 'radius', 'stroke', 'weight'], radius=12296, weight=1), Circle(color='#F00', fill_color='#00dcfe', fill_opacity=0.4, location=[47.372501373291016, -122.70279693603516], opacity=0.8, options=['class_name', 'clickable', 'color', 'dash_array', 'fill', 'fill_color', 'fill_opacity', 'line_cap', 'line_join', 'opacity', 'pointer_events', 'radius', 'stroke', 'weight'], radius=4489, weight=1), Circle(color='#F00', fill_color='#63ff94', fill_opacity=0.4, location=[46.650001525878906, -117.4000015258789], opacity=0.8, options=['class_name', 'clickable', 'color', 'dash_array', 'fill', 'fill_color', 'fill_opacity', 'line_cap', 'line_join', 'opacity', 'pointer_events', 'radius', 'stroke', 'weight'], radius=7493, weight=1), Circle(color='#F00', fill_color='#ff6400', fill_opacity=0.4, location=[47.896400451660156, -117.99330139160156], opacity=0.8, options=['class_name', 'clickable', 'color', 'dash_array', 'fill', 'fill_color', 'fill_opacity', 'line_cap', 'line_join', 'opacity', 'pointer_events', 'radius', 'stroke', 'weight'], radius=7776, weight=1), Circle(color='#F00', fill_color='#ff9100', fill_opacity=0.4, location=[47.42890167236328, -120.30999755859375], opacity=0.8, options=['class_name', 'clickable', 'color', 'dash_array', 'fill', 'fill_color', 'fill_opacity', 'line_cap', 'line_join', 'opacity', 'pointer_events', 'radius', 'stroke', 'weight'], radius=10932, weight=1), Circle(color='#F00', fill_color='#ff9100', fill_opacity=0.4, location=[47.43330001831055, -120.3499984741211], opacity=0.8, options=['class_name', 'clickable', 'color', 'dash_array', 'fill', 'fill_color', 'fill_opacity', 'line_cap', 'line_join', 'opacity', 'pointer_events', 'radius', 'stroke', 'weight'], radius=5878, weight=1), Circle(color='#F00', fill_color='#ffea00', fill_opacity=0.4, location=[46.900001525878906, -121.55000305175781], opacity=0.8, options=['class_name', 'clickable', 'color', 'dash_array', 'fill', 'fill_color', 'fill_opacity', 'line_cap', 'line_join', 'opacity', 'pointer_events', 'radius', 'stroke', 'weight'], radius=3794, weight=1), Circle(color='#F00', fill_color='#beff39', fill_opacity=0.4, location=[45.766700744628906, -121.4832992553711], opacity=0.8, options=['class_name', 'clickable', 'color', 'dash_array', 'fill', 'fill_color', 'fill_opacity', 'line_cap', 'line_join', 'opacity', 'pointer_events', 'radius', 'stroke', 'weight'], radius=7776, weight=1), Circle(color='#F00', fill_color='#d1ff26', fill_opacity=0.4, location=[45.81669998168945, -121.4000015258789], opacity=0.8, options=['class_name', 'clickable', 'color', 'dash_array', 'fill', 'fill_color', 'fill_opacity', 'line_cap', 'line_join', 'opacity', 'pointer_events', 'radius', 'stroke', 'weight'], radius=3174, weight=1), Circle(color='#F00', fill_color='#f4f802', fill_opacity=0.4, location=[46.38330078125, -120.7166976928711], opacity=0.8, options=['class_name', 'clickable', 'color', 'dash_array', 'fill', 'fill_color', 'fill_opacity', 'line_cap', 'line_join', 'opacity', 'pointer_events', 'radius', 'stroke', 'weight'], radius=8818, weight=1), Circle(color='#F00', fill_color='#94ff63', fill_opacity=0.4, location=[46.04359817504883, -118.46279907226562], opacity=0.8, options=['class_name', 'clickable', 'color', 'dash_array', 'fill', 'fill_color', 'fill_opacity', 'line_cap', 'line_join', 'opacity', 'pointer_events', 'radius', 'stroke', 'weight'], radius=8653, weight=1), Circle(color='#F00', fill_color='#ff7a00', fill_opacity=0.4, location=[47.75669860839844, -118.67749786376953], opacity=0.8, options=['class_name', 'clickable', 'color', 'dash_array', 'fill', 'fill_color', 'fill_opacity', 'line_cap', 'line_join', 'opacity', 'pointer_events', 'radius', 'stroke', 'weight'], radius=12812, weight=1), Circle(color='#F00', fill_color='#0000ff', fill_opacity=0.4, location=[46.68330001831055, -123.75], opacity=0.8, options=['class_name', 'clickable', 'color', 'dash_array', 'fill', 'fill_color', 'fill_opacity', 'line_cap', 'line_join', 'opacity', 'pointer_events', 'radius', 'stroke', 'weight'], radius=9524, weight=1), Circle(color='#F00', fill_color='#ff9100', fill_opacity=0.4, location=[47.41669845581055, -119.11669921875], opacity=0.8, options=['class_name', 'clickable', 'color', 'dash_array', 'fill', 'fill_color', 'fill_opacity', 'line_cap', 'line_join', 'opacity', 'pointer_events', 'radius', 'stroke', 'weight'], radius=6893, weight=1), Circle(color='#F00', fill_color='#baff3c', fill_opacity=0.4, location=[45.79999923706055, -121.93329620361328], opacity=0.8, options=['class_name', 'clickable', 'color', 'dash_array', 'fill', 'fill_color', 'fill_opacity', 'line_cap', 'line_join', 'opacity', 'pointer_events', 'radius', 'stroke', 'weight'], radius=8049, weight=1), Circle(color='#F00', fill_color='#d60000', fill_opacity=0.4, location=[48.47420120239258, -120.1885986328125], opacity=0.8, options=['class_name', 'clickable', 'color', 'dash_array', 'fill', 'fill_color', 'fill_opacity', 'line_cap', 'line_join', 'opacity', 'pointer_events', 'radius', 'stroke', 'weight'], radius=12178, weight=1), Circle(color='#F00', fill_color='#ffb200', fill_opacity=0.4, location=[46.57419967651367, -120.60079956054688], opacity=0.8, options=['class_name', 'clickable', 'color', 'dash_array', 'fill', 'fill_color', 'fill_opacity', 'line_cap', 'line_join', 'opacity', 'pointer_events', 'radius', 'stroke', 'weight'], radius=2939, weight=1), Circle(color='#F00', fill_color='#f1fc06', fill_opacity=0.4, location=[46.61669921875, -120.43329620361328], opacity=0.8, options=['class_name', 'clickable', 'color', 'dash_array', 'fill', 'fill_color', 'fill_opacity', 'line_cap', 'line_join', 'opacity', 'pointer_events', 'radius', 'stroke', 'weight'], radius=3174, weight=1), Circle(color='#F00', fill_color='#ebff0c', fill_opacity=0.4, location=[46.589698791503906, -120.54139709472656], opacity=0.8, options=['class_name', 'clickable', 'color', 'dash_array', 'fill', 'fill_color', 'fill_opacity', 'line_cap', 'line_join', 'opacity', 'pointer_events', 'radius', 'stroke', 'weight'], radius=3979, weight=1), Circle(color='#F00', fill_color='#ff8900', fill_opacity=0.4, location=[47.30780029296875, -119.51529693603516], opacity=0.8, options=['class_name', 'clickable', 'color', 'dash_array', 'fill', 'fill_color', 'fill_opacity', 'line_cap', 'line_join', 'opacity', 'pointer_events', 'radius', 'stroke', 'weight'], radius=1697, weight=1), Circle(color='#F00', fill_color='#ffa300', fill_opacity=0.4, location=[45.61940002441406, -121.16609954833984], opacity=0.8, options=['class_name', 'clickable', 'color', 'dash_array', 'fill', 'fill_color', 'fill_opacity', 'line_cap', 'line_join', 'opacity', 'pointer_events', 'radius', 'stroke', 'weight'], radius=1697, weight=1), Circle(color='#F00', fill_color='#ffc800', fill_opacity=0.4, location=[47.27669906616211, -121.33719635009766], opacity=0.8, options=['class_name', 'clickable', 'color', 'dash_array', 'fill', 'fill_color', 'fill_opacity', 'line_cap', 'line_join', 'opacity', 'pointer_events', 'radius', 'stroke', 'weight'], radius=2683, weight=1), Circle(color='#F00', fill_color='#0030ff', fill_opacity=0.4, location=[47.25, -122.43329620361328], opacity=0.8, options=['class_name', 'clickable', 'color', 'dash_array', 'fill', 'fill_color', 'fill_opacity', 'line_cap', 'line_join', 'opacity', 'pointer_events', 'radius', 'stroke', 'weight'], radius=7099, weight=1), Circle(color='#F00', fill_color='#80ff77', fill_opacity=0.4, location=[48.38330078125, -124.7332992553711], opacity=0.8, options=['class_name', 'clickable', 'color', 'dash_array', 'fill', 'fill_color', 'fill_opacity', 'line_cap', 'line_join', 'opacity', 'pointer_events', 'radius', 'stroke', 'weight'], radius=1200, weight=1), Circle(color='#F00', fill_color='#ffb900', fill_opacity=0.4, location=[46.56829833984375, -120.54280090332031], opacity=0.8, options=['class_name', 'clickable', 'color', 'dash_array', 'fill', 'fill_color', 'fill_opacity', 'line_cap', 'line_join', 'opacity', 'pointer_events', 'radius', 'stroke', 'weight'], radius=1200, weight=1), Circle(color='#F00', fill_color='#00e0fb', fill_opacity=0.4, location=[47.68330001831055, -122.2667007446289], opacity=0.8, options=['class_name', 'clickable', 'color', 'dash_array', 'fill', 'fill_color', 'fill_opacity', 'line_cap', 'line_join', 'opacity', 'pointer_events', 'radius', 'stroke', 'weight'], radius=3174, weight=1), Circle(color='#F00', fill_color='#2cffca', fill_opacity=0.4, location=[46.03329849243164, -118.33329772949219], opacity=0.8, options=['class_name', 'clickable', 'color', 'dash_array', 'fill', 'fill_color', 'fill_opacity', 'line_cap', 'line_join', 'opacity', 'pointer_events', 'radius', 'stroke', 'weight'], radius=4800, weight=1), Circle(color='#F00', fill_color='#ff3400', fill_opacity=0.4, location=[48.46080017089844, -119.5167007446289], opacity=0.8, options=['class_name', 'clickable', 'color', 'dash_array', 'fill', 'fill_color', 'fill_opacity', 'line_cap', 'line_join', 'opacity', 'pointer_events', 'radius', 'stroke', 'weight'], radius=11320, weight=1), Circle(color='#F00', fill_color='#0068ff', fill_opacity=0.4, location=[47.23809814453125, -123.14080047607422], opacity=0.8, options=['class_name', 'clickable', 'color', 'dash_array', 'fill', 'fill_color', 'fill_opacity', 'line_cap', 'line_join', 'opacity', 'pointer_events', 'radius', 'stroke', 'weight'], radius=2400, weight=1), Circle(color='#F00', fill_color='#00c4ff', fill_opacity=0.4, location=[47.687198638916016, -122.25530242919922], opacity=0.8, options=['class_name', 'clickable', 'color', 'dash_array', 'fill', 'fill_color', 'fill_opacity', 'line_cap', 'line_join', 'opacity', 'pointer_events', 'radius', 'stroke', 'weight'], radius=2400, weight=1)), options=['attribution_control', 'basemap', 'bounce_at_zoom_limits', 'box_zoom', 'center', 'close_popup_on_click', 'double_click_zoom', 'dragging', 'inertia', 'inertia_deceleration', 'inertia_max_speed', 'keyboard', 'keyboard_pan_offset', 'keyboard_zoom_offset', 'max_zoom', 'min_zoom', 'scroll_wheel_zoom', 'tap', 'tap_tolerance', 'touch_zoom', 'world_copy_jump', 'zoom', 'zoom_animation_threshold', 'zoom_control', 'zoom_start'], zoom=6)"
      ]
     },
     "metadata": {},
     "output_type": "display_data"
    }
   ],
   "source": [
    "center = [(min_lat+max_lat)/2, (min_long+max_long)/2]\n",
    "zoom = 6\n",
    "\n",
    "m = Map(default_tiles=TileLayer(opacity=1.0), center=center, zoom=zoom)\n",
    "\n",
    "r = Rectangle(bounds=[[min_lat,min_long],[max_lat,max_long]], weight=5, fill_opacity=0.0)\n",
    "m += r\n",
    "\n",
    "lat_margin=(max_lat-min_lat)/4\n",
    "long_margin=(max_long-min_long)/4\n",
    "circles = []\n",
    "for index,row in pdf.iterrows():\n",
    "    _lat=row['latitude']\n",
    "    _long=row['longitude']\n",
    "    _count=row['count(station)']\n",
    "    _coef=row[_avg]\n",
    "    # taking sqrt of count so that the  area of the circle corresponds to the count\n",
    "    c = Circle(location=(_lat,_long), radius=int(1200*np.sqrt(_count+0.0)), weight=1,\n",
    "            color='#F00', opacity=0.8, fill_opacity=0.4,\n",
    "            fill_color=get_color(_coef))\n",
    "    circles.append(c)\n",
    "    m.add_layer(c)\n",
    "m    "
   ]
  },
  {
   "cell_type": "markdown",
   "metadata": {
    "slideshow": {
     "slide_type": "skip"
    }
   },
   "source": [
    "### Something to try\n",
    "* Leaflet supports a variety of maps. See if you can get a topographical map as the background."
   ]
  },
  {
   "cell_type": "markdown",
   "metadata": {
    "slideshow": {
     "slide_type": "subslide"
    }
   },
   "source": [
    "### Is coef_1 related to elevation ?"
   ]
  },
  {
   "cell_type": "code",
   "execution_count": 15,
   "metadata": {
    "ExecuteTime": {
     "end_time": "2018-04-26T15:17:56.331766Z",
     "start_time": "2018-04-26T15:17:49.586Z"
    },
    "hide_input": true,
    "slideshow": {
     "slide_type": "fragment"
    }
   },
   "outputs": [
    {
     "data": {
      "text/plain": [
       "(-100, 1000)"
      ]
     },
     "execution_count": 15,
     "metadata": {},
     "output_type": "execute_result"
    },
    {
     "data": {
      "image/png": "[encoded data removed]",
      "text/plain": [
       "<Figure size 576x432 with 1 Axes>"
      ]
     },
     "metadata": {},
     "output_type": "display_data"
    }
   ],
   "source": [
    "pdf.plot.scatter(x='elevation',y='avg(coeff_1)',figsize=(8,6));\n",
    "grid()\n",
    "xlim([-100,1000])"
   ]
  },
  {
   "cell_type": "markdown",
   "metadata": {
    "slideshow": {
     "slide_type": "slide"
    }
   },
   "source": [
    "## Summary\n",
    "* We saw how to use `ipyLeaflet` to present data on top of maps.\n",
    "* We saw that in NY state, most of the snow accumulation is in the Adirondacks.\n",
    "* Snow accumulation increases with elevation, but the relationship is weak: locations with elevation 400-600 meters have widely varying accumulations of snow."
   ]
  },
  {
   "cell_type": "markdown",
   "metadata": {
    "slideshow": {
     "slide_type": "slide"
    }
   },
   "source": [
    "## See you next time"
   ]
  }
 ],
 "metadata": {
  "anaconda-cloud": {},
  "celltoolbar": "Slideshow",
  "hide_input": false,
  "kernelspec": {
   "display_name": "Python 3",
   "language": "python",
   "name": "python3"
  },
  "language_info": {
   "codemirror_mode": {
    "name": "ipython",
    "version": 3
   },
   "file_extension": ".py",
   "mimetype": "text/x-python",
   "name": "python",
   "nbconvert_exporter": "python",
   "pygments_lexer": "ipython3",
   "version": "3.6.5"
  },
  "toc": {
   "nav_menu": {
    "height": "174px",
    "width": "252px"
   },
   "number_sections": true,
   "sideBar": true,
   "skip_h1_title": false,
   "title_cell": "Table of Contents",
   "title_sidebar": "Contents",
   "toc_cell": false,
   "toc_position": {
    "height": "calc(100% - 180px)",
    "left": "10px",
    "top": "150px",
    "width": "334px"
   },
   "toc_section_display": "block",
   "toc_window_display": false
  },
  "widgets": {
   "state": {},
   "version": "1.0.0"
  }
 },
 "nbformat": 4,
 "nbformat_minor": 1
}
